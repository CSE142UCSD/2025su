{
 "cells": [
  {
   "cell_type": "code",
   "execution_count": 9,
   "id": "39bd05fd-cae3-4bed-9b16-0114306cfc72",
   "metadata": {},
   "outputs": [
    {
     "name": "stdout",
     "output_type": "stream",
     "text": [
      "The autoreload extension is already loaded. To reload it, use:\n",
      "  %reload_ext autoreload\n"
     ]
    }
   ],
   "source": [
    "# Please execute/shift-return this cell everytime you run the notebook.  Don't edit it. \n",
    "%load_ext autoreload\n",
    "%autoreload 2\n",
    "from notebook import * "
   ]
  },
  {
   "cell_type": "markdown",
   "id": "cc91b7b4-d577-4799-90e0-8caf96cf580c",
   "metadata": {},
   "source": [
    "# Amdahl's Law\n",
    "\n",
    "## Optimization is a moving target"
   ]
  },
  {
   "cell_type": "markdown",
   "id": "822722b6-0472-4380-ab50-5692be8a2d07",
   "metadata": {},
   "source": [
    "## Amdahl's Law -- optimizating is a moving target"
   ]
  },
  {
   "cell_type": "code",
   "execution_count": 11,
   "id": "635fdd0f-c640-4018-bac9-332b36078458",
   "metadata": {},
   "outputs": [
    {
     "data": {
      "text/html": [
       "<style>pre { line-height: 125%; }\n",
       "td.linenos .normal { color: inherit; background-color: transparent; padding-left: 5px; padding-right: 5px; }\n",
       "span.linenos { color: inherit; background-color: transparent; padding-left: 5px; padding-right: 5px; }\n",
       "td.linenos .special { color: #000000; background-color: #ffffc0; padding-left: 5px; padding-right: 5px; }\n",
       "span.linenos.special { color: #000000; background-color: #ffffc0; padding-left: 5px; padding-right: 5px; }\n",
       ".output_html .hll { background-color: #ffffcc }\n",
       ".output_html { background: #f8f8f8; }\n",
       ".output_html .c { color: #3D7B7B; font-style: italic } /* Comment */\n",
       ".output_html .err { border: 1px solid #FF0000 } /* Error */\n",
       ".output_html .k { color: #008000; font-weight: bold } /* Keyword */\n",
       ".output_html .o { color: #666666 } /* Operator */\n",
       ".output_html .ch { color: #3D7B7B; font-style: italic } /* Comment.Hashbang */\n",
       ".output_html .cm { color: #3D7B7B; font-style: italic } /* Comment.Multiline */\n",
       ".output_html .cp { color: #9C6500 } /* Comment.Preproc */\n",
       ".output_html .cpf { color: #3D7B7B; font-style: italic } /* Comment.PreprocFile */\n",
       ".output_html .c1 { color: #3D7B7B; font-style: italic } /* Comment.Single */\n",
       ".output_html .cs { color: #3D7B7B; font-style: italic } /* Comment.Special */\n",
       ".output_html .gd { color: #A00000 } /* Generic.Deleted */\n",
       ".output_html .ge { font-style: italic } /* Generic.Emph */\n",
       ".output_html .ges { font-weight: bold; font-style: italic } /* Generic.EmphStrong */\n",
       ".output_html .gr { color: #E40000 } /* Generic.Error */\n",
       ".output_html .gh { color: #000080; font-weight: bold } /* Generic.Heading */\n",
       ".output_html .gi { color: #008400 } /* Generic.Inserted */\n",
       ".output_html .go { color: #717171 } /* Generic.Output */\n",
       ".output_html .gp { color: #000080; font-weight: bold } /* Generic.Prompt */\n",
       ".output_html .gs { font-weight: bold } /* Generic.Strong */\n",
       ".output_html .gu { color: #800080; font-weight: bold } /* Generic.Subheading */\n",
       ".output_html .gt { color: #0044DD } /* Generic.Traceback */\n",
       ".output_html .kc { color: #008000; font-weight: bold } /* Keyword.Constant */\n",
       ".output_html .kd { color: #008000; font-weight: bold } /* Keyword.Declaration */\n",
       ".output_html .kn { color: #008000; font-weight: bold } /* Keyword.Namespace */\n",
       ".output_html .kp { color: #008000 } /* Keyword.Pseudo */\n",
       ".output_html .kr { color: #008000; font-weight: bold } /* Keyword.Reserved */\n",
       ".output_html .kt { color: #B00040 } /* Keyword.Type */\n",
       ".output_html .m { color: #666666 } /* Literal.Number */\n",
       ".output_html .s { color: #BA2121 } /* Literal.String */\n",
       ".output_html .na { color: #687822 } /* Name.Attribute */\n",
       ".output_html .nb { color: #008000 } /* Name.Builtin */\n",
       ".output_html .nc { color: #0000FF; font-weight: bold } /* Name.Class */\n",
       ".output_html .no { color: #880000 } /* Name.Constant */\n",
       ".output_html .nd { color: #AA22FF } /* Name.Decorator */\n",
       ".output_html .ni { color: #717171; font-weight: bold } /* Name.Entity */\n",
       ".output_html .ne { color: #CB3F38; font-weight: bold } /* Name.Exception */\n",
       ".output_html .nf { color: #0000FF } /* Name.Function */\n",
       ".output_html .nl { color: #767600 } /* Name.Label */\n",
       ".output_html .nn { color: #0000FF; font-weight: bold } /* Name.Namespace */\n",
       ".output_html .nt { color: #008000; font-weight: bold } /* Name.Tag */\n",
       ".output_html .nv { color: #19177C } /* Name.Variable */\n",
       ".output_html .ow { color: #AA22FF; font-weight: bold } /* Operator.Word */\n",
       ".output_html .w { color: #bbbbbb } /* Text.Whitespace */\n",
       ".output_html .mb { color: #666666 } /* Literal.Number.Bin */\n",
       ".output_html .mf { color: #666666 } /* Literal.Number.Float */\n",
       ".output_html .mh { color: #666666 } /* Literal.Number.Hex */\n",
       ".output_html .mi { color: #666666 } /* Literal.Number.Integer */\n",
       ".output_html .mo { color: #666666 } /* Literal.Number.Oct */\n",
       ".output_html .sa { color: #BA2121 } /* Literal.String.Affix */\n",
       ".output_html .sb { color: #BA2121 } /* Literal.String.Backtick */\n",
       ".output_html .sc { color: #BA2121 } /* Literal.String.Char */\n",
       ".output_html .dl { color: #BA2121 } /* Literal.String.Delimiter */\n",
       ".output_html .sd { color: #BA2121; font-style: italic } /* Literal.String.Doc */\n",
       ".output_html .s2 { color: #BA2121 } /* Literal.String.Double */\n",
       ".output_html .se { color: #AA5D1F; font-weight: bold } /* Literal.String.Escape */\n",
       ".output_html .sh { color: #BA2121 } /* Literal.String.Heredoc */\n",
       ".output_html .si { color: #A45A77; font-weight: bold } /* Literal.String.Interpol */\n",
       ".output_html .sx { color: #008000 } /* Literal.String.Other */\n",
       ".output_html .sr { color: #A45A77 } /* Literal.String.Regex */\n",
       ".output_html .s1 { color: #BA2121 } /* Literal.String.Single */\n",
       ".output_html .ss { color: #19177C } /* Literal.String.Symbol */\n",
       ".output_html .bp { color: #008000 } /* Name.Builtin.Pseudo */\n",
       ".output_html .fm { color: #0000FF } /* Name.Function.Magic */\n",
       ".output_html .vc { color: #19177C } /* Name.Variable.Class */\n",
       ".output_html .vg { color: #19177C } /* Name.Variable.Global */\n",
       ".output_html .vi { color: #19177C } /* Name.Variable.Instance */\n",
       ".output_html .vm { color: #19177C } /* Name.Variable.Magic */\n",
       ".output_html .il { color: #666666 } /* Literal.Number.Integer.Long */</style><div class=\"highlight\"><pre><span></span><span class=\"c1\">// ./gpusort/main.cu:63-92 (30 lines)</span>\n",
       "<span class=\"kt\">void</span><span class=\"w\"> </span><span class=\"nf\">bitonic_sort</span><span class=\"p\">(</span><span class=\"kt\">float</span><span class=\"w\"> </span><span class=\"o\">*</span><span class=\"n\">values</span><span class=\"p\">,</span><span class=\"w\"> </span><span class=\"kt\">float</span><span class=\"w\"> </span><span class=\"o\">*</span><span class=\"n\">out_values</span><span class=\"p\">,</span><span class=\"w\"> </span><span class=\"kt\">int</span><span class=\"w\"> </span><span class=\"n\">num_of_elements</span><span class=\"p\">)</span>\n",
       "<span class=\"p\">{</span>\n",
       "<span class=\"w\">  </span><span class=\"kt\">float</span><span class=\"w\"> </span><span class=\"o\">*</span><span class=\"n\">dev_values</span><span class=\"p\">;</span>\n",
       "<span class=\"w\">  </span><span class=\"kt\">size_t</span><span class=\"w\"> </span><span class=\"n\">size</span><span class=\"w\"> </span><span class=\"o\">=</span><span class=\"w\"> </span><span class=\"n\">num_of_elements</span><span class=\"w\"> </span><span class=\"o\">*</span><span class=\"w\"> </span><span class=\"k\">sizeof</span><span class=\"p\">(</span><span class=\"kt\">float</span><span class=\"p\">);</span>\n",
       "<span class=\"w\">  </span><span class=\"kt\">int</span><span class=\"w\"> </span><span class=\"n\">BLOCKS</span><span class=\"w\"> </span><span class=\"o\">=</span><span class=\"w\"> </span><span class=\"n\">num_of_elements</span><span class=\"o\">/</span><span class=\"n\">THREADS_PER_BLOCK</span><span class=\"p\">;</span><span class=\"w\"> </span>\n",
       "\n",
       "<span class=\"w\">  </span><span class=\"n\">cudaMalloc</span><span class=\"p\">((</span><span class=\"kt\">void</span><span class=\"o\">**</span><span class=\"p\">)</span><span class=\"w\"> </span><span class=\"o\">&amp;</span><span class=\"n\">dev_values</span><span class=\"p\">,</span><span class=\"w\"> </span><span class=\"n\">size</span><span class=\"p\">);</span>\n",
       "<span class=\"w\">  </span><span class=\"n\">sdkStartTimer</span><span class=\"p\">(</span><span class=\"o\">&amp;</span><span class=\"n\">uploadTimer</span><span class=\"p\">);</span>\n",
       "<span class=\"w\">  </span><span class=\"n\">cudaMemcpy</span><span class=\"p\">(</span><span class=\"n\">dev_values</span><span class=\"p\">,</span><span class=\"w\"> </span><span class=\"n\">values</span><span class=\"p\">,</span><span class=\"w\"> </span><span class=\"n\">size</span><span class=\"p\">,</span><span class=\"w\"> </span><span class=\"n\">cudaMemcpyHostToDevice</span><span class=\"p\">);</span>\n",
       "<span class=\"w\">  </span><span class=\"n\">sdkStopTimer</span><span class=\"p\">(</span><span class=\"o\">&amp;</span><span class=\"n\">uploadTimer</span><span class=\"p\">);</span><span class=\"w\"> </span>\n",
       "<span class=\"w\">  </span><span class=\"n\">dim3</span><span class=\"w\"> </span><span class=\"n\">blocks</span><span class=\"p\">(</span><span class=\"n\">BLOCKS</span><span class=\"p\">,</span><span class=\"mi\">1</span><span class=\"p\">);</span><span class=\"w\">    </span><span class=\"cm\">/* Number of blocks   */</span>\n",
       "<span class=\"w\">  </span><span class=\"n\">dim3</span><span class=\"w\"> </span><span class=\"n\">threads</span><span class=\"p\">(</span><span class=\"n\">THREADS_PER_BLOCK</span><span class=\"p\">,</span><span class=\"mi\">1</span><span class=\"p\">);</span><span class=\"w\">  </span><span class=\"cm\">/* Number of threads  */</span>\n",
       "\n",
       "<span class=\"w\">  </span><span class=\"n\">sdkStartTimer</span><span class=\"p\">(</span><span class=\"o\">&amp;</span><span class=\"n\">totalTimer</span><span class=\"p\">);</span><span class=\"w\"> </span>\n",
       "<span class=\"w\">  </span><span class=\"kt\">int</span><span class=\"w\"> </span><span class=\"n\">j</span><span class=\"p\">,</span><span class=\"w\"> </span><span class=\"n\">k</span><span class=\"p\">;</span>\n",
       "<span class=\"w\">  </span><span class=\"cm\">/* Major step */</span>\n",
       "<span class=\"w\">  </span><span class=\"k\">for</span><span class=\"w\"> </span><span class=\"p\">(</span><span class=\"n\">k</span><span class=\"w\"> </span><span class=\"o\">=</span><span class=\"w\"> </span><span class=\"mi\">2</span><span class=\"p\">;</span><span class=\"w\"> </span><span class=\"n\">k</span><span class=\"w\"> </span><span class=\"o\">&lt;=</span><span class=\"w\"> </span><span class=\"n\">num_of_elements</span><span class=\"p\">;</span><span class=\"w\"> </span><span class=\"n\">k</span><span class=\"w\"> </span><span class=\"o\">&lt;&lt;=</span><span class=\"w\"> </span><span class=\"mi\">1</span><span class=\"p\">)</span><span class=\"w\"> </span><span class=\"p\">{</span>\n",
       "<span class=\"w\">    </span><span class=\"cm\">/* Minor step */</span>\n",
       "<span class=\"w\">    </span><span class=\"k\">for</span><span class=\"w\"> </span><span class=\"p\">(</span><span class=\"n\">j</span><span class=\"o\">=</span><span class=\"n\">k</span><span class=\"o\">&gt;&gt;</span><span class=\"mi\">1</span><span class=\"p\">;</span><span class=\"w\"> </span><span class=\"n\">j</span><span class=\"o\">&gt;</span><span class=\"mi\">0</span><span class=\"p\">;</span><span class=\"w\"> </span><span class=\"n\">j</span><span class=\"o\">=</span><span class=\"n\">j</span><span class=\"o\">&gt;&gt;</span><span class=\"mi\">1</span><span class=\"p\">)</span><span class=\"w\"> </span><span class=\"p\">{</span>\n",
       "<span class=\"w\">      </span><span class=\"n\">bitonic_sort_step</span><span class=\"o\">&lt;&lt;&lt;</span><span class=\"n\">blocks</span><span class=\"p\">,</span><span class=\"w\"> </span><span class=\"n\">threads</span><span class=\"o\">&gt;&gt;&gt;</span><span class=\"p\">(</span><span class=\"n\">dev_values</span><span class=\"p\">,</span><span class=\"w\"> </span><span class=\"n\">j</span><span class=\"p\">,</span><span class=\"w\"> </span><span class=\"n\">k</span><span class=\"p\">);</span>\n",
       "<span class=\"w\">    </span><span class=\"p\">}</span>\n",
       "<span class=\"w\">  </span><span class=\"p\">}</span>\n",
       "<span class=\"w\">\t\t</span><span class=\"n\">cudaThreadSynchronize</span><span class=\"p\">();</span><span class=\"w\"> </span>\n",
       "<span class=\"w\">  </span><span class=\"n\">sdkStopTimer</span><span class=\"p\">(</span><span class=\"o\">&amp;</span><span class=\"n\">totalTimer</span><span class=\"p\">);</span><span class=\"w\"> </span>\n",
       "<span class=\"w\">  </span><span class=\"n\">sdkStartTimer</span><span class=\"p\">(</span><span class=\"o\">&amp;</span><span class=\"n\">downloadTimer</span><span class=\"p\">);</span>\n",
       "<span class=\"w\">  </span><span class=\"n\">cudaMemcpy</span><span class=\"p\">((</span><span class=\"kt\">void</span><span class=\"w\"> </span><span class=\"o\">*</span><span class=\"p\">)</span><span class=\"n\">out_values</span><span class=\"p\">,</span><span class=\"w\"> </span><span class=\"p\">(</span><span class=\"kt\">void</span><span class=\"w\"> </span><span class=\"o\">*</span><span class=\"p\">)</span><span class=\"n\">dev_values</span><span class=\"p\">,</span><span class=\"w\">  </span><span class=\"n\">num_of_elements</span><span class=\"o\">*</span><span class=\"k\">sizeof</span><span class=\"p\">(</span><span class=\"kt\">float</span><span class=\"p\">),</span><span class=\"w\"> </span><span class=\"n\">cudaMemcpyDeviceToHost</span><span class=\"p\">);</span>\n",
       "<span class=\"c1\">//\t\tcheckCudaErrors(cudaMemcpy((void *)out_values, (void *)dev_values, num_of_elements*sizeof(float), cudaMemcpyDeviceToHost));</span>\n",
       "<span class=\"w\">  </span><span class=\"n\">sdkStopTimer</span><span class=\"p\">(</span><span class=\"o\">&amp;</span><span class=\"n\">downloadTimer</span><span class=\"p\">);</span><span class=\"w\"> </span>\n",
       "<span class=\"w\">  </span><span class=\"n\">cudaFree</span><span class=\"p\">(</span><span class=\"n\">dev_values</span><span class=\"p\">);</span>\n",
       "<span class=\"p\">}</span>\n",
       "</pre></div>\n"
      ],
      "text/latex": [
       "\\begin{Verbatim}[commandchars=\\\\\\{\\}]\n",
       "\\PY{c+c1}{// ./gpusort/main.cu:63\\PYZhy{}92 (30 lines)}\n",
       "\\PY{k+kt}{void}\\PY{+w}{ }\\PY{n+nf}{bitonic\\PYZus{}sort}\\PY{p}{(}\\PY{k+kt}{float}\\PY{+w}{ }\\PY{o}{*}\\PY{n}{values}\\PY{p}{,}\\PY{+w}{ }\\PY{k+kt}{float}\\PY{+w}{ }\\PY{o}{*}\\PY{n}{out\\PYZus{}values}\\PY{p}{,}\\PY{+w}{ }\\PY{k+kt}{int}\\PY{+w}{ }\\PY{n}{num\\PYZus{}of\\PYZus{}elements}\\PY{p}{)}\n",
       "\\PY{p}{\\PYZob{}}\n",
       "\\PY{+w}{  }\\PY{k+kt}{float}\\PY{+w}{ }\\PY{o}{*}\\PY{n}{dev\\PYZus{}values}\\PY{p}{;}\n",
       "\\PY{+w}{  }\\PY{k+kt}{size\\PYZus{}t}\\PY{+w}{ }\\PY{n}{size}\\PY{+w}{ }\\PY{o}{=}\\PY{+w}{ }\\PY{n}{num\\PYZus{}of\\PYZus{}elements}\\PY{+w}{ }\\PY{o}{*}\\PY{+w}{ }\\PY{k}{sizeof}\\PY{p}{(}\\PY{k+kt}{float}\\PY{p}{)}\\PY{p}{;}\n",
       "\\PY{+w}{  }\\PY{k+kt}{int}\\PY{+w}{ }\\PY{n}{BLOCKS}\\PY{+w}{ }\\PY{o}{=}\\PY{+w}{ }\\PY{n}{num\\PYZus{}of\\PYZus{}elements}\\PY{o}{/}\\PY{n}{THREADS\\PYZus{}PER\\PYZus{}BLOCK}\\PY{p}{;}\\PY{+w}{ }\n",
       "\n",
       "\\PY{+w}{  }\\PY{n}{cudaMalloc}\\PY{p}{(}\\PY{p}{(}\\PY{k+kt}{void}\\PY{o}{*}\\PY{o}{*}\\PY{p}{)}\\PY{+w}{ }\\PY{o}{\\PYZam{}}\\PY{n}{dev\\PYZus{}values}\\PY{p}{,}\\PY{+w}{ }\\PY{n}{size}\\PY{p}{)}\\PY{p}{;}\n",
       "\\PY{+w}{  }\\PY{n}{sdkStartTimer}\\PY{p}{(}\\PY{o}{\\PYZam{}}\\PY{n}{uploadTimer}\\PY{p}{)}\\PY{p}{;}\n",
       "\\PY{+w}{  }\\PY{n}{cudaMemcpy}\\PY{p}{(}\\PY{n}{dev\\PYZus{}values}\\PY{p}{,}\\PY{+w}{ }\\PY{n}{values}\\PY{p}{,}\\PY{+w}{ }\\PY{n}{size}\\PY{p}{,}\\PY{+w}{ }\\PY{n}{cudaMemcpyHostToDevice}\\PY{p}{)}\\PY{p}{;}\n",
       "\\PY{+w}{  }\\PY{n}{sdkStopTimer}\\PY{p}{(}\\PY{o}{\\PYZam{}}\\PY{n}{uploadTimer}\\PY{p}{)}\\PY{p}{;}\\PY{+w}{ }\n",
       "\\PY{+w}{  }\\PY{n}{dim3}\\PY{+w}{ }\\PY{n}{blocks}\\PY{p}{(}\\PY{n}{BLOCKS}\\PY{p}{,}\\PY{l+m+mi}{1}\\PY{p}{)}\\PY{p}{;}\\PY{+w}{    }\\PY{c+cm}{/* Number of blocks   */}\n",
       "\\PY{+w}{  }\\PY{n}{dim3}\\PY{+w}{ }\\PY{n}{threads}\\PY{p}{(}\\PY{n}{THREADS\\PYZus{}PER\\PYZus{}BLOCK}\\PY{p}{,}\\PY{l+m+mi}{1}\\PY{p}{)}\\PY{p}{;}\\PY{+w}{  }\\PY{c+cm}{/* Number of threads  */}\n",
       "\n",
       "\\PY{+w}{  }\\PY{n}{sdkStartTimer}\\PY{p}{(}\\PY{o}{\\PYZam{}}\\PY{n}{totalTimer}\\PY{p}{)}\\PY{p}{;}\\PY{+w}{ }\n",
       "\\PY{+w}{  }\\PY{k+kt}{int}\\PY{+w}{ }\\PY{n}{j}\\PY{p}{,}\\PY{+w}{ }\\PY{n}{k}\\PY{p}{;}\n",
       "\\PY{+w}{  }\\PY{c+cm}{/* Major step */}\n",
       "\\PY{+w}{  }\\PY{k}{for}\\PY{+w}{ }\\PY{p}{(}\\PY{n}{k}\\PY{+w}{ }\\PY{o}{=}\\PY{+w}{ }\\PY{l+m+mi}{2}\\PY{p}{;}\\PY{+w}{ }\\PY{n}{k}\\PY{+w}{ }\\PY{o}{\\PYZlt{}}\\PY{o}{=}\\PY{+w}{ }\\PY{n}{num\\PYZus{}of\\PYZus{}elements}\\PY{p}{;}\\PY{+w}{ }\\PY{n}{k}\\PY{+w}{ }\\PY{o}{\\PYZlt{}}\\PY{o}{\\PYZlt{}}\\PY{o}{=}\\PY{+w}{ }\\PY{l+m+mi}{1}\\PY{p}{)}\\PY{+w}{ }\\PY{p}{\\PYZob{}}\n",
       "\\PY{+w}{    }\\PY{c+cm}{/* Minor step */}\n",
       "\\PY{+w}{    }\\PY{k}{for}\\PY{+w}{ }\\PY{p}{(}\\PY{n}{j}\\PY{o}{=}\\PY{n}{k}\\PY{o}{\\PYZgt{}}\\PY{o}{\\PYZgt{}}\\PY{l+m+mi}{1}\\PY{p}{;}\\PY{+w}{ }\\PY{n}{j}\\PY{o}{\\PYZgt{}}\\PY{l+m+mi}{0}\\PY{p}{;}\\PY{+w}{ }\\PY{n}{j}\\PY{o}{=}\\PY{n}{j}\\PY{o}{\\PYZgt{}}\\PY{o}{\\PYZgt{}}\\PY{l+m+mi}{1}\\PY{p}{)}\\PY{+w}{ }\\PY{p}{\\PYZob{}}\n",
       "\\PY{+w}{      }\\PY{n}{bitonic\\PYZus{}sort\\PYZus{}step}\\PY{o}{\\PYZlt{}}\\PY{o}{\\PYZlt{}}\\PY{o}{\\PYZlt{}}\\PY{n}{blocks}\\PY{p}{,}\\PY{+w}{ }\\PY{n}{threads}\\PY{o}{\\PYZgt{}}\\PY{o}{\\PYZgt{}}\\PY{o}{\\PYZgt{}}\\PY{p}{(}\\PY{n}{dev\\PYZus{}values}\\PY{p}{,}\\PY{+w}{ }\\PY{n}{j}\\PY{p}{,}\\PY{+w}{ }\\PY{n}{k}\\PY{p}{)}\\PY{p}{;}\n",
       "\\PY{+w}{    }\\PY{p}{\\PYZcb{}}\n",
       "\\PY{+w}{  }\\PY{p}{\\PYZcb{}}\n",
       "\\PY{+w}{\t\t}\\PY{n}{cudaThreadSynchronize}\\PY{p}{(}\\PY{p}{)}\\PY{p}{;}\\PY{+w}{ }\n",
       "\\PY{+w}{  }\\PY{n}{sdkStopTimer}\\PY{p}{(}\\PY{o}{\\PYZam{}}\\PY{n}{totalTimer}\\PY{p}{)}\\PY{p}{;}\\PY{+w}{ }\n",
       "\\PY{+w}{  }\\PY{n}{sdkStartTimer}\\PY{p}{(}\\PY{o}{\\PYZam{}}\\PY{n}{downloadTimer}\\PY{p}{)}\\PY{p}{;}\n",
       "\\PY{+w}{  }\\PY{n}{cudaMemcpy}\\PY{p}{(}\\PY{p}{(}\\PY{k+kt}{void}\\PY{+w}{ }\\PY{o}{*}\\PY{p}{)}\\PY{n}{out\\PYZus{}values}\\PY{p}{,}\\PY{+w}{ }\\PY{p}{(}\\PY{k+kt}{void}\\PY{+w}{ }\\PY{o}{*}\\PY{p}{)}\\PY{n}{dev\\PYZus{}values}\\PY{p}{,}\\PY{+w}{  }\\PY{n}{num\\PYZus{}of\\PYZus{}elements}\\PY{o}{*}\\PY{k}{sizeof}\\PY{p}{(}\\PY{k+kt}{float}\\PY{p}{)}\\PY{p}{,}\\PY{+w}{ }\\PY{n}{cudaMemcpyDeviceToHost}\\PY{p}{)}\\PY{p}{;}\n",
       "\\PY{c+c1}{//\t\tcheckCudaErrors(cudaMemcpy((void *)out\\PYZus{}values, (void *)dev\\PYZus{}values, num\\PYZus{}of\\PYZus{}elements*sizeof(float), cudaMemcpyDeviceToHost));}\n",
       "\\PY{+w}{  }\\PY{n}{sdkStopTimer}\\PY{p}{(}\\PY{o}{\\PYZam{}}\\PY{n}{downloadTimer}\\PY{p}{)}\\PY{p}{;}\\PY{+w}{ }\n",
       "\\PY{+w}{  }\\PY{n}{cudaFree}\\PY{p}{(}\\PY{n}{dev\\PYZus{}values}\\PY{p}{)}\\PY{p}{;}\n",
       "\\PY{p}{\\PYZcb{}}\n",
       "\\end{Verbatim}\n"
      ],
      "text/plain": [
       "// ./gpusort/main.cu:63-92 (30 lines)\n",
       "void bitonic_sort(float *values, float *out_values, int num_of_elements)\n",
       "{\n",
       "  float *dev_values;\n",
       "  size_t size = num_of_elements * sizeof(float);\n",
       "  int BLOCKS = num_of_elements/THREADS_PER_BLOCK; \n",
       "\n",
       "  cudaMalloc((void**) &dev_values, size);\n",
       "  sdkStartTimer(&uploadTimer);\n",
       "  cudaMemcpy(dev_values, values, size, cudaMemcpyHostToDevice);\n",
       "  sdkStopTimer(&uploadTimer); \n",
       "  dim3 blocks(BLOCKS,1);    /* Number of blocks   */\n",
       "  dim3 threads(THREADS_PER_BLOCK,1);  /* Number of threads  */\n",
       "\n",
       "  sdkStartTimer(&totalTimer); \n",
       "  int j, k;\n",
       "  /* Major step */\n",
       "  for (k = 2; k <= num_of_elements; k <<= 1) {\n",
       "    /* Minor step */\n",
       "    for (j=k>>1; j>0; j=j>>1) {\n",
       "      bitonic_sort_step<<<blocks, threads>>>(dev_values, j, k);\n",
       "    }\n",
       "  }\n",
       "\t\tcudaThreadSynchronize(); \n",
       "  sdkStopTimer(&totalTimer); \n",
       "  sdkStartTimer(&downloadTimer);\n",
       "  cudaMemcpy((void *)out_values, (void *)dev_values,  num_of_elements*sizeof(float), cudaMemcpyDeviceToHost);\n",
       "//\t\tcheckCudaErrors(cudaMemcpy((void *)out_values, (void *)dev_values, num_of_elements*sizeof(float), cudaMemcpyDeviceToHost));\n",
       "  sdkStopTimer(&downloadTimer); \n",
       "  cudaFree(dev_values);\n",
       "}"
      ]
     },
     "metadata": {},
     "output_type": "display_data"
    }
   ],
   "source": [
    "render_code(\"./gpusort/main.cu\", lang=\"c++\", show=\"bitonic_sort\")"
   ]
  },
  {
   "cell_type": "code",
   "execution_count": 3,
   "id": "c73d3821-69cd-4eea-a462-1e37d06b918c",
   "metadata": {},
   "outputs": [
    {
     "name": "stdout",
     "output_type": "stream",
     "text": [
      "Thu Aug  7 12:44:55 2025       \n",
      "+-----------------------------------------------------------------------------------------+\n",
      "| NVIDIA-SMI 555.42.06              Driver Version: 555.42.06      CUDA Version: 12.5     |\n",
      "|-----------------------------------------+------------------------+----------------------+\n",
      "| GPU  Name                 Persistence-M | Bus-Id          Disp.A | Volatile Uncorr. ECC |\n",
      "| Fan  Temp   Perf          Pwr:Usage/Cap |           Memory-Usage | GPU-Util  Compute M. |\n",
      "|                                         |                        |               MIG M. |\n",
      "|=========================================+========================+======================|\n",
      "|   0  NVIDIA GeForce RTX 4070 ...    Off |   00000000:01:00.0 Off |                  N/A |\n",
      "| 32%   33C    P8             12W /  100W |      15MiB /  16376MiB |      0%      Default |\n",
      "|                                         |                        |                  N/A |\n",
      "+-----------------------------------------+------------------------+----------------------+\n",
      "                                                                                         \n",
      "+-----------------------------------------------------------------------------------------+\n",
      "| Processes:                                                                              |\n",
      "|  GPU   GI   CI        PID   Type   Process name                              GPU Memory |\n",
      "|        ID   ID                                                               Usage      |\n",
      "|=========================================================================================|\n",
      "|    0   N/A  N/A      2613      G   /usr/lib/xorg/Xorg                              4MiB |\n",
      "+-----------------------------------------------------------------------------------------+\n"
     ]
    }
   ],
   "source": [
    "! nvidia-smi"
   ]
  },
  {
   "cell_type": "code",
   "execution_count": 12,
   "id": "3066334e-d2ef-41e6-a3eb-aaed80d92702",
   "metadata": {},
   "outputs": [
    {
     "name": "stdout",
     "output_type": "stream",
     "text": [
      "rm -f\t*.o hybridsort hybridsort_cpu bitonic\n",
      "/usr/local/cuda/bin/nvcc -DTIMER -O3 -w -g    -DCPU -DHAVE_LINUX_PERF_EVENT_H -DREADING_FROM_BINARY         main.cu -o hybridsort_cpu\n",
      "/usr/local/cuda/bin/nvcc -DTIMER -O3 -w -g    -DHAVE_LINUX_PERF_EVENT_H -DREADING_FROM_BINARY         main.cu -o hybridsort\n",
      "File on H.D.D.; Sorting on CPU\n",
      "Sorting list of 134217728 floats\n",
      "FileInput 1.834462 seconds\n",
      "Sorting on CPU...done.\n",
      "Total CPU execution time: 15.383359 seconds\n"
     ]
    },
    {
     "data": {
      "text/html": [
       "<style type=\"text/css\">\n",
       "#T_7e8b1_row0_col0, #T_7e8b1_row0_col1, #T_7e8b1_row0_col2, #T_7e8b1_row0_col3, #T_7e8b1_row0_col4, #T_7e8b1_row0_col5, #T_7e8b1_row0_col6 {\n",
       "  font-family: SF Mono;\n",
       "  font-size: 1.4vw;\n",
       "}\n",
       "</style>\n",
       "<table id=\"T_7e8b1\">\n",
       "  <thead>\n",
       "    <tr>\n",
       "      <th class=\"blank level0\" >&nbsp;</th>\n",
       "      <th id=\"T_7e8b1_level0_col0\" class=\"col_heading level0 col0\" >index</th>\n",
       "      <th id=\"T_7e8b1_level0_col1\" class=\"col_heading level0 col1\" >ET</th>\n",
       "      <th id=\"T_7e8b1_level0_col2\" class=\"col_heading level0 col2\" > FileInput</th>\n",
       "      <th id=\"T_7e8b1_level0_col3\" class=\"col_heading level0 col3\" > CPU_Kernel</th>\n",
       "      <th id=\"T_7e8b1_level0_col4\" class=\"col_heading level0 col4\" > GPU_Kernel</th>\n",
       "      <th id=\"T_7e8b1_level0_col5\" class=\"col_heading level0 col5\" > Host2GPU</th>\n",
       "      <th id=\"T_7e8b1_level0_col6\" class=\"col_heading level0 col6\" > GPU2Host</th>\n",
       "    </tr>\n",
       "  </thead>\n",
       "  <tbody>\n",
       "    <tr>\n",
       "      <th id=\"T_7e8b1_level0_row0\" class=\"row_heading level0 row0\" >0</th>\n",
       "      <td id=\"T_7e8b1_row0_col0\" class=\"data row0 col0\" >0</td>\n",
       "      <td id=\"T_7e8b1_row0_col1\" class=\"data row0 col1\" >17.218188</td>\n",
       "      <td id=\"T_7e8b1_row0_col2\" class=\"data row0 col2\" >1.834462</td>\n",
       "      <td id=\"T_7e8b1_row0_col3\" class=\"data row0 col3\" >15.383359</td>\n",
       "      <td id=\"T_7e8b1_row0_col4\" class=\"data row0 col4\" >0.000000</td>\n",
       "      <td id=\"T_7e8b1_row0_col5\" class=\"data row0 col5\" >0.000000</td>\n",
       "      <td id=\"T_7e8b1_row0_col6\" class=\"data row0 col6\" >0.000000</td>\n",
       "    </tr>\n",
       "  </tbody>\n",
       "</table>\n"
      ],
      "text/plain": [
       "<pandas.io.formats.style.Styler at 0x79eb78cac680>"
      ]
     },
     "metadata": {},
     "output_type": "display_data"
    }
   ],
   "source": [
    "! cd gpusort; make clean; make\n",
    "# ! ssh htseng@azelf \"source ./courses/CS203/demo/amdahlslaw/gpusort/run_CPU\"\n",
    "! echo \"ET, FileInput, CPU_Kernel, GPU_Kernel, Host2GPU, GPU2Host\" > ./gpusort/sort.csv\n",
    "! /usr/sbin/clearcache > /dev/null\n",
    "! echo \"File on H.D.D.; Sorting on CPU\"\n",
    "! cd gpusort; source ./run_CPU 2>> sort.csv\n",
    "display_df_mono(render_csv(\"./gpusort/sort.csv\"))"
   ]
  },
  {
   "cell_type": "code",
   "execution_count": 13,
   "id": "6f670ff5-6dbf-48c0-ba9e-b5a92de617b6",
   "metadata": {},
   "outputs": [
    {
     "name": "stdout",
     "output_type": "stream",
     "text": [
      "File on H.D.D.; Sorting on GPU\n",
      "Sorting list of 134217728 floats\n",
      "FileInput 1.828547 seconds\n",
      "Sorting on GPU...GPU iterations: 1\n",
      "Total GPU Sort execution time: 0.910748 seconds\n",
      "    - Upload\t\t: 0.037590 seconds\n",
      "    - Download\t\t: 0.158556 seconds\n"
     ]
    }
   ],
   "source": [
    "! /usr/sbin/clearcache > /dev/null\n",
    "! echo \"File on H.D.D.; Sorting on GPU\"\n",
    "! cd gpusort; source ./run 2>> sort.csv"
   ]
  },
  {
   "cell_type": "code",
   "execution_count": 14,
   "id": "2efa9850-29a9-42ba-9fa3-c3df23661e69",
   "metadata": {},
   "outputs": [
    {
     "data": {
      "text/html": [
       "<style type=\"text/css\">\n",
       "#T_1412f_row0_col0, #T_1412f_row0_col1, #T_1412f_row0_col2, #T_1412f_row0_col3, #T_1412f_row0_col4, #T_1412f_row0_col5, #T_1412f_row0_col6, #T_1412f_row1_col0, #T_1412f_row1_col1, #T_1412f_row1_col2, #T_1412f_row1_col3, #T_1412f_row1_col4, #T_1412f_row1_col5, #T_1412f_row1_col6 {\n",
       "  font-family: SF Mono;\n",
       "  font-size: 1.4vw;\n",
       "}\n",
       "</style>\n",
       "<table id=\"T_1412f\">\n",
       "  <thead>\n",
       "    <tr>\n",
       "      <th class=\"blank level0\" >&nbsp;</th>\n",
       "      <th id=\"T_1412f_level0_col0\" class=\"col_heading level0 col0\" >index</th>\n",
       "      <th id=\"T_1412f_level0_col1\" class=\"col_heading level0 col1\" >ET</th>\n",
       "      <th id=\"T_1412f_level0_col2\" class=\"col_heading level0 col2\" > FileInput</th>\n",
       "      <th id=\"T_1412f_level0_col3\" class=\"col_heading level0 col3\" > CPU_Kernel</th>\n",
       "      <th id=\"T_1412f_level0_col4\" class=\"col_heading level0 col4\" > GPU_Kernel</th>\n",
       "      <th id=\"T_1412f_level0_col5\" class=\"col_heading level0 col5\" > Host2GPU</th>\n",
       "      <th id=\"T_1412f_level0_col6\" class=\"col_heading level0 col6\" > GPU2Host</th>\n",
       "    </tr>\n",
       "  </thead>\n",
       "  <tbody>\n",
       "    <tr>\n",
       "      <th id=\"T_1412f_level0_row0\" class=\"row_heading level0 row0\" >0</th>\n",
       "      <td id=\"T_1412f_row0_col0\" class=\"data row0 col0\" >0</td>\n",
       "      <td id=\"T_1412f_row0_col1\" class=\"data row0 col1\" >17.218188</td>\n",
       "      <td id=\"T_1412f_row0_col2\" class=\"data row0 col2\" >1.834462</td>\n",
       "      <td id=\"T_1412f_row0_col3\" class=\"data row0 col3\" >15.383359</td>\n",
       "      <td id=\"T_1412f_row0_col4\" class=\"data row0 col4\" >0.000000</td>\n",
       "      <td id=\"T_1412f_row0_col5\" class=\"data row0 col5\" >0.000000</td>\n",
       "      <td id=\"T_1412f_row0_col6\" class=\"data row0 col6\" >0.000000</td>\n",
       "    </tr>\n",
       "    <tr>\n",
       "      <th id=\"T_1412f_level0_row1\" class=\"row_heading level0 row1\" >1</th>\n",
       "      <td id=\"T_1412f_row1_col0\" class=\"data row1 col0\" >1</td>\n",
       "      <td id=\"T_1412f_row1_col1\" class=\"data row1 col1\" >3.101171</td>\n",
       "      <td id=\"T_1412f_row1_col2\" class=\"data row1 col2\" >1.828547</td>\n",
       "      <td id=\"T_1412f_row1_col3\" class=\"data row1 col3\" >0.000000</td>\n",
       "      <td id=\"T_1412f_row1_col4\" class=\"data row1 col4\" >0.910748</td>\n",
       "      <td id=\"T_1412f_row1_col5\" class=\"data row1 col5\" >0.037590</td>\n",
       "      <td id=\"T_1412f_row1_col6\" class=\"data row1 col6\" >0.158556</td>\n",
       "    </tr>\n",
       "  </tbody>\n",
       "</table>\n"
      ],
      "text/plain": [
       "<pandas.io.formats.style.Styler at 0x79eb17264ec0>"
      ]
     },
     "metadata": {},
     "output_type": "display_data"
    }
   ],
   "source": [
    "display_df_mono(render_csv(\"./gpusort/sort.csv\"))"
   ]
  },
  {
   "cell_type": "code",
   "execution_count": 7,
   "id": "25cc7e14-4e94-48d8-b228-f8e3df3355ca",
   "metadata": {},
   "outputs": [
    {
     "name": "stdout",
     "output_type": "stream",
     "text": [
      "File on S.S.D.; Sorting on GPU\n",
      "Sorting list of 134217728 floats\n",
      "FileInput 0.329169 seconds\n",
      "Sorting on GPU...GPU iterations: 1\n",
      "Total GPU Sort execution time: 0.926812 seconds\n",
      "    - Upload\t\t: 0.037186 seconds\n",
      "    - Download\t\t: 0.155048 seconds\n"
     ]
    }
   ],
   "source": [
    "! cp ~/courses/CSE142/demo/300000000.bin /tmp\n",
    "! /usr/sbin/clearcache > /dev/null\n",
    "! echo \"File on S.S.D.; Sorting on GPU\"\n",
    "! cd gpusort; source ./run_SSD 2>> sort.csv"
   ]
  },
  {
   "cell_type": "code",
   "execution_count": 8,
   "id": "42c3bd85-2cb9-4492-ae36-4bd92db2eed5",
   "metadata": {},
   "outputs": [
    {
     "data": {
      "text/html": [
       "<style type=\"text/css\">\n",
       "#T_01f41_row0_col0, #T_01f41_row0_col1, #T_01f41_row0_col2, #T_01f41_row0_col3, #T_01f41_row0_col4, #T_01f41_row0_col5, #T_01f41_row0_col6, #T_01f41_row1_col0, #T_01f41_row1_col1, #T_01f41_row1_col2, #T_01f41_row1_col3, #T_01f41_row1_col4, #T_01f41_row1_col5, #T_01f41_row1_col6, #T_01f41_row2_col0, #T_01f41_row2_col1, #T_01f41_row2_col2, #T_01f41_row2_col3, #T_01f41_row2_col4, #T_01f41_row2_col5, #T_01f41_row2_col6 {\n",
       "  font-family: SF Mono;\n",
       "  font-size: 1.4vw;\n",
       "}\n",
       "</style>\n",
       "<table id=\"T_01f41\">\n",
       "  <thead>\n",
       "    <tr>\n",
       "      <th class=\"blank level0\" >&nbsp;</th>\n",
       "      <th id=\"T_01f41_level0_col0\" class=\"col_heading level0 col0\" >index</th>\n",
       "      <th id=\"T_01f41_level0_col1\" class=\"col_heading level0 col1\" >ET</th>\n",
       "      <th id=\"T_01f41_level0_col2\" class=\"col_heading level0 col2\" > FileInput</th>\n",
       "      <th id=\"T_01f41_level0_col3\" class=\"col_heading level0 col3\" > CPU_Kernel</th>\n",
       "      <th id=\"T_01f41_level0_col4\" class=\"col_heading level0 col4\" > GPU_Kernel</th>\n",
       "      <th id=\"T_01f41_level0_col5\" class=\"col_heading level0 col5\" > Host2GPU</th>\n",
       "      <th id=\"T_01f41_level0_col6\" class=\"col_heading level0 col6\" > GPU2Host</th>\n",
       "    </tr>\n",
       "  </thead>\n",
       "  <tbody>\n",
       "    <tr>\n",
       "      <th id=\"T_01f41_level0_row0\" class=\"row_heading level0 row0\" >0</th>\n",
       "      <td id=\"T_01f41_row0_col0\" class=\"data row0 col0\" >0</td>\n",
       "      <td id=\"T_01f41_row0_col1\" class=\"data row0 col1\" >17.408289</td>\n",
       "      <td id=\"T_01f41_row0_col2\" class=\"data row0 col2\" >1.828791</td>\n",
       "      <td id=\"T_01f41_row0_col3\" class=\"data row0 col3\" >15.579085</td>\n",
       "      <td id=\"T_01f41_row0_col4\" class=\"data row0 col4\" >0.000000</td>\n",
       "      <td id=\"T_01f41_row0_col5\" class=\"data row0 col5\" >0.000000</td>\n",
       "      <td id=\"T_01f41_row0_col6\" class=\"data row0 col6\" >0.000000</td>\n",
       "    </tr>\n",
       "    <tr>\n",
       "      <th id=\"T_01f41_level0_row1\" class=\"row_heading level0 row1\" >1</th>\n",
       "      <td id=\"T_01f41_row1_col0\" class=\"data row1 col0\" >1</td>\n",
       "      <td id=\"T_01f41_row1_col1\" class=\"data row1 col1\" >3.109873</td>\n",
       "      <td id=\"T_01f41_row1_col2\" class=\"data row1 col2\" >1.828919</td>\n",
       "      <td id=\"T_01f41_row1_col3\" class=\"data row1 col3\" >0.000000</td>\n",
       "      <td id=\"T_01f41_row1_col4\" class=\"data row1 col4\" >0.922205</td>\n",
       "      <td id=\"T_01f41_row1_col5\" class=\"data row1 col5\" >0.037119</td>\n",
       "      <td id=\"T_01f41_row1_col6\" class=\"data row1 col6\" >0.162884</td>\n",
       "    </tr>\n",
       "    <tr>\n",
       "      <th id=\"T_01f41_level0_row2\" class=\"row_heading level0 row2\" >2</th>\n",
       "      <td id=\"T_01f41_row2_col0\" class=\"data row2 col0\" >2</td>\n",
       "      <td id=\"T_01f41_row2_col1\" class=\"data row2 col1\" >1.581998</td>\n",
       "      <td id=\"T_01f41_row2_col2\" class=\"data row2 col2\" >0.329169</td>\n",
       "      <td id=\"T_01f41_row2_col3\" class=\"data row2 col3\" >0.000000</td>\n",
       "      <td id=\"T_01f41_row2_col4\" class=\"data row2 col4\" >0.926812</td>\n",
       "      <td id=\"T_01f41_row2_col5\" class=\"data row2 col5\" >0.037186</td>\n",
       "      <td id=\"T_01f41_row2_col6\" class=\"data row2 col6\" >0.155048</td>\n",
       "    </tr>\n",
       "  </tbody>\n",
       "</table>\n"
      ],
      "text/plain": [
       "<pandas.io.formats.style.Styler at 0x79eb17cd78c0>"
      ]
     },
     "metadata": {},
     "output_type": "display_data"
    }
   ],
   "source": [
    "display_df_mono(render_csv(\"./gpusort/sort.csv\"))"
   ]
  },
  {
   "cell_type": "code",
   "execution_count": null,
   "id": "5c3fe00d-5fa1-41ca-a494-168cf9ac297d",
   "metadata": {},
   "outputs": [],
   "source": []
  }
 ],
 "metadata": {
  "kernelspec": {
   "display_name": "Python 3 (ipykernel)",
   "language": "python",
   "name": "python3"
  },
  "language_info": {
   "codemirror_mode": {
    "name": "ipython",
    "version": 3
   },
   "file_extension": ".py",
   "mimetype": "text/x-python",
   "name": "python",
   "nbconvert_exporter": "python",
   "pygments_lexer": "ipython3",
   "version": "3.12.3"
  },
  "widgets": {
   "application/vnd.jupyter.widget-state+json": {
    "state": {},
    "version_major": 2,
    "version_minor": 0
   }
  }
 },
 "nbformat": 4,
 "nbformat_minor": 5
}
