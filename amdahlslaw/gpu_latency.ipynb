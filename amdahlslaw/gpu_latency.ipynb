{
 "cells": [
  {
   "cell_type": "code",
   "execution_count": 12,
   "id": "39bd05fd-cae3-4bed-9b16-0114306cfc72",
   "metadata": {},
   "outputs": [
    {
     "name": "stdout",
     "output_type": "stream",
     "text": [
      "The autoreload extension is already loaded. To reload it, use:\n",
      "  %reload_ext autoreload\n"
     ]
    }
   ],
   "source": [
    "# Please execute/shift-return this cell everytime you run the notebook.  Don't edit it. \n",
    "%load_ext autoreload\n",
    "%autoreload 2\n",
    "from notebook import * "
   ]
  },
  {
   "cell_type": "markdown",
   "id": "a0385204-de3a-4e7d-83cf-d9f50aafbe64",
   "metadata": {},
   "source": [
    "# Latency"
   ]
  },
  {
   "cell_type": "code",
   "execution_count": 2,
   "id": "ade98520-6b66-46fd-bc8e-8c40e76a9299",
   "metadata": {},
   "outputs": [
    {
     "name": "stdout",
     "output_type": "stream",
     "text": [
      "Data Type Size: 4\n",
      "Time elapsed on matrix multiplication of 4 16x16 . 16x16 on GPU: 0.113632 ms.\n",
      "\n",
      "\n",
      "Throughput: 0.07 GFLOPS\n",
      "\n"
     ]
    }
   ],
   "source": [
    "! cd metrics; echo \"data_type,size,time,GLOPS\" > latency.csv\n",
    "! cd metrics; ./cudamm 16 0 2>> latency.csv"
   ]
  },
  {
   "cell_type": "code",
   "execution_count": 3,
   "id": "74caab1a-9df8-4822-9de6-d349745324b0",
   "metadata": {},
   "outputs": [
    {
     "name": "stdout",
     "output_type": "stream",
     "text": [
      "Data Type Size: 4\n",
      "Time elapsed on matrix multiplication of 4 32x32 . 32x32 on GPU: 0.113984 ms.\n",
      "\n",
      "\n",
      "Throughput: 0.57 GFLOPS\n",
      "\n"
     ]
    }
   ],
   "source": [
    "! cd metrics;  ./cudamm 32 0 2>> latency.csv"
   ]
  },
  {
   "cell_type": "code",
   "execution_count": 4,
   "id": "4b5d8118",
   "metadata": {},
   "outputs": [
    {
     "name": "stdout",
     "output_type": "stream",
     "text": [
      "Data Type Size: 4\n",
      "Time elapsed on matrix multiplication of 4 64x64 . 64x64 on GPU: 0.126848 ms.\n",
      "\n",
      "\n",
      "Throughput: 4.13 GFLOPS\n",
      "\n"
     ]
    }
   ],
   "source": [
    "! cd metrics;  ./cudamm 64 0 2>> latency.csv"
   ]
  },
  {
   "cell_type": "code",
   "execution_count": 13,
   "id": "bed8bdfc-6089-4854-8551-d420ec04a638",
   "metadata": {},
   "outputs": [
    {
     "data": {
      "text/html": [
       "<style type=\"text/css\">\n",
       "#T_63396_row0_col0, #T_63396_row0_col1, #T_63396_row0_col2, #T_63396_row0_col3, #T_63396_row0_col4, #T_63396_row1_col0, #T_63396_row1_col1, #T_63396_row1_col2, #T_63396_row1_col3, #T_63396_row1_col4, #T_63396_row2_col0, #T_63396_row2_col1, #T_63396_row2_col2, #T_63396_row2_col3, #T_63396_row2_col4, #T_63396_row3_col0, #T_63396_row3_col1, #T_63396_row3_col2, #T_63396_row3_col3, #T_63396_row3_col4, #T_63396_row4_col0, #T_63396_row4_col1, #T_63396_row4_col2, #T_63396_row4_col3, #T_63396_row4_col4 {\n",
       "  font-family: SF Mono;\n",
       "  font-size: 1.4vw;\n",
       "}\n",
       "</style>\n",
       "<table id=\"T_63396\">\n",
       "  <thead>\n",
       "    <tr>\n",
       "      <th class=\"blank level0\" >&nbsp;</th>\n",
       "      <th id=\"T_63396_level0_col0\" class=\"col_heading level0 col0\" >index</th>\n",
       "      <th id=\"T_63396_level0_col1\" class=\"col_heading level0 col1\" >data_type</th>\n",
       "      <th id=\"T_63396_level0_col2\" class=\"col_heading level0 col2\" >size</th>\n",
       "      <th id=\"T_63396_level0_col3\" class=\"col_heading level0 col3\" >time</th>\n",
       "      <th id=\"T_63396_level0_col4\" class=\"col_heading level0 col4\" >GLOPS</th>\n",
       "    </tr>\n",
       "  </thead>\n",
       "  <tbody>\n",
       "    <tr>\n",
       "      <th id=\"T_63396_level0_row0\" class=\"row_heading level0 row0\" >0</th>\n",
       "      <td id=\"T_63396_row0_col0\" class=\"data row0 col0\" >0</td>\n",
       "      <td id=\"T_63396_row0_col1\" class=\"data row0 col1\" >4</td>\n",
       "      <td id=\"T_63396_row0_col2\" class=\"data row0 col2\" > 16x16x16</td>\n",
       "      <td id=\"T_63396_row0_col3\" class=\"data row0 col3\" >0.113632</td>\n",
       "      <td id=\"T_63396_row0_col4\" class=\"data row0 col4\" >0.070000</td>\n",
       "    </tr>\n",
       "    <tr>\n",
       "      <th id=\"T_63396_level0_row1\" class=\"row_heading level0 row1\" >1</th>\n",
       "      <td id=\"T_63396_row1_col0\" class=\"data row1 col0\" >1</td>\n",
       "      <td id=\"T_63396_row1_col1\" class=\"data row1 col1\" >4</td>\n",
       "      <td id=\"T_63396_row1_col2\" class=\"data row1 col2\" > 32x32x32</td>\n",
       "      <td id=\"T_63396_row1_col3\" class=\"data row1 col3\" >0.113984</td>\n",
       "      <td id=\"T_63396_row1_col4\" class=\"data row1 col4\" >0.570000</td>\n",
       "    </tr>\n",
       "    <tr>\n",
       "      <th id=\"T_63396_level0_row2\" class=\"row_heading level0 row2\" >2</th>\n",
       "      <td id=\"T_63396_row2_col0\" class=\"data row2 col0\" >2</td>\n",
       "      <td id=\"T_63396_row2_col1\" class=\"data row2 col1\" >4</td>\n",
       "      <td id=\"T_63396_row2_col2\" class=\"data row2 col2\" > 64x64x64</td>\n",
       "      <td id=\"T_63396_row2_col3\" class=\"data row2 col3\" >0.126848</td>\n",
       "      <td id=\"T_63396_row2_col4\" class=\"data row2 col4\" >4.130000</td>\n",
       "    </tr>\n",
       "    <tr>\n",
       "      <th id=\"T_63396_level0_row3\" class=\"row_heading level0 row3\" >3</th>\n",
       "      <td id=\"T_63396_row3_col0\" class=\"data row3 col0\" >3</td>\n",
       "      <td id=\"T_63396_row3_col1\" class=\"data row3 col1\" >8</td>\n",
       "      <td id=\"T_63396_row3_col2\" class=\"data row3 col2\" >2048x2048x2048</td>\n",
       "      <td id=\"T_63396_row3_col3\" class=\"data row3 col3\" >12849.470564</td>\n",
       "      <td id=\"T_63396_row3_col4\" class=\"data row3 col4\" >1.340000</td>\n",
       "    </tr>\n",
       "    <tr>\n",
       "      <th id=\"T_63396_level0_row4\" class=\"row_heading level0 row4\" >4</th>\n",
       "      <td id=\"T_63396_row4_col0\" class=\"data row4 col0\" >4</td>\n",
       "      <td id=\"T_63396_row4_col1\" class=\"data row4 col1\" >4</td>\n",
       "      <td id=\"T_63396_row4_col2\" class=\"data row4 col2\" > 2048x2048x2048</td>\n",
       "      <td id=\"T_63396_row4_col3\" class=\"data row4 col3\" >13.755968</td>\n",
       "      <td id=\"T_63396_row4_col4\" class=\"data row4 col4\" >1248.900000</td>\n",
       "    </tr>\n",
       "  </tbody>\n",
       "</table>\n"
      ],
      "text/plain": [
       "<pandas.io.formats.style.Styler at 0x7c329a1e8b60>"
      ]
     },
     "metadata": {},
     "output_type": "display_data"
    }
   ],
   "source": [
    "display_df_mono(render_csv(\"./metrics/latency.csv\"))"
   ]
  },
  {
   "cell_type": "markdown",
   "id": "3747180a-ce28-4329-b26e-1c17ac309e97",
   "metadata": {},
   "source": [
    "# Choose the \"right\" metrics\n",
    "\n",
    "## Throughput and Latency\n",
    "\n",
    "### SSD v.s. HDD\n",
    "\n",
    "You may use to hdparm (need root permission to execute). The /dev/sda on this machine is an SATA SSD that has around 450-500MB/sec bandwidth. The /dev/md0 is a RAID contains two H.D.Ds in RAID-0 configuration that also achieves 450-500MB/sec bandwidth. Let's examine the bandwidth using the following command."
   ]
  },
  {
   "cell_type": "code",
   "execution_count": 7,
   "id": "2e609d7a-4a9a-4b77-83fc-764de897ffd9",
   "metadata": {},
   "outputs": [
    {
     "data": {
      "text/html": [
       "\n",
       "        <iframe\n",
       "            width=\"100%\"\n",
       "            height=\"400\"\n",
       "            src=\"https://hub.escalab.org/user/htseng/terminals/1\"\n",
       "            frameborder=\"0\"\n",
       "            allowfullscreen\n",
       "            \n",
       "        ></iframe>\n",
       "        "
      ],
      "text/plain": [
       "<IPython.lib.display.IFrame at 0x7c32ec622450>"
      ]
     },
     "execution_count": 7,
     "metadata": {},
     "output_type": "execute_result"
    }
   ],
   "source": [
    "from IPython.display import IFrame\n",
    "IFrame(\"https://hub.escalab.org/user/htseng/terminals/1\", width=\"100%\", height=\"400\")"
   ]
  },
  {
   "cell_type": "code",
   "execution_count": 8,
   "id": "c4844277-f48e-4fe6-b9e0-6c0c88fa3c57",
   "metadata": {},
   "outputs": [
    {
     "name": "stdout",
     "output_type": "stream",
     "text": [
      "File on H.D.D\n",
      "Sorting list of 512 floats\n",
      "FileInput 0.000081 seconds\n",
      "Sorting on GPU...GPU iterations: 1\n",
      "Total GPU Sort execution time: 0.001444 seconds\n",
      "    - Upload\t\t: 0.000012 seconds\n",
      "    - Download\t\t: 0.000013 seconds\n",
      "Sorting list of 512 floats\n",
      "FileInput 0.000117 seconds\n",
      "Sorting on CPU...done.\n",
      "Total CPU execution time: 0.000031 seconds\n",
      "File on S.S.D\n",
      "Sorting list of 512 floats\n",
      "FileInput 0.000038 seconds\n",
      "Sorting on GPU...GPU iterations: 1\n",
      "Total GPU Sort execution time: 0.000284 seconds\n",
      "    - Upload\t\t: 0.000012 seconds\n",
      "    - Download\t\t: 0.000008 seconds\n",
      "Sorting list of 512 floats\n",
      "FileInput 0.000031 seconds\n",
      "Sorting on CPU...done.\n",
      "Total CPU execution time: 0.000038 seconds\n",
      "File on H.D.D\n",
      "Sorting list of 32768 floats\n",
      "FileInput 0.000200 seconds\n",
      "Sorting on GPU...GPU iterations: 1\n",
      "Total GPU Sort execution time: 0.000462 seconds\n",
      "    - Upload\t\t: 0.000026 seconds\n",
      "    - Download\t\t: 0.000051 seconds\n",
      "Sorting list of 32768 floats\n",
      "FileInput 0.000111 seconds\n",
      "Sorting on CPU...done.\n",
      "Total CPU execution time: 0.003213 seconds\n",
      "File on S.S.D\n",
      "Sorting list of 32768 floats\n",
      "FileInput 0.000098 seconds\n",
      "Sorting on GPU...GPU iterations: 1\n",
      "Total GPU Sort execution time: 0.000443 seconds\n",
      "    - Upload\t\t: 0.000021 seconds\n",
      "    - Download\t\t: 0.000052 seconds\n",
      "Sorting list of 32768 floats\n",
      "FileInput 0.000063 seconds\n",
      "Sorting on CPU...done.\n",
      "Total CPU execution time: 0.002162 seconds\n",
      "File on H.D.D\n",
      "Sorting list of 262144 floats\n",
      "FileInput 0.000611 seconds\n",
      "Sorting on GPU...GPU iterations: 1\n",
      "Total GPU Sort execution time: 0.000720 seconds\n",
      "    - Upload\t\t: 0.000078 seconds\n",
      "    - Download\t\t: 0.000354 seconds\n",
      "Sorting list of 262144 floats\n",
      "FileInput 0.000353 seconds\n",
      "Sorting on CPU...done.\n",
      "Total CPU execution time: 0.020345 seconds\n",
      "File on S.S.D\n",
      "Sorting list of 262144 floats\n",
      "FileInput 0.000613 seconds\n",
      "Sorting on GPU...GPU iterations: 1\n",
      "Total GPU Sort execution time: 0.000712 seconds\n",
      "    - Upload\t\t: 0.000083 seconds\n",
      "    - Download\t\t: 0.000361 seconds\n",
      "Sorting list of 262144 floats\n",
      "FileInput 0.000583 seconds\n",
      "Sorting on CPU...done.\n",
      "Total CPU execution time: 0.025752 seconds\n"
     ]
    },
    {
     "data": {
      "text/html": [
       "<style type=\"text/css\">\n",
       "#T_da98e_row0_col0, #T_da98e_row0_col1, #T_da98e_row0_col2, #T_da98e_row0_col3, #T_da98e_row0_col4, #T_da98e_row0_col5, #T_da98e_row0_col6, #T_da98e_row0_col7, #T_da98e_row0_col8, #T_da98e_row1_col0, #T_da98e_row1_col1, #T_da98e_row1_col2, #T_da98e_row1_col3, #T_da98e_row1_col4, #T_da98e_row1_col5, #T_da98e_row1_col6, #T_da98e_row1_col7, #T_da98e_row1_col8, #T_da98e_row2_col0, #T_da98e_row2_col1, #T_da98e_row2_col2, #T_da98e_row2_col3, #T_da98e_row2_col4, #T_da98e_row2_col5, #T_da98e_row2_col6, #T_da98e_row2_col7, #T_da98e_row2_col8, #T_da98e_row3_col0, #T_da98e_row3_col1, #T_da98e_row3_col2, #T_da98e_row3_col3, #T_da98e_row3_col4, #T_da98e_row3_col5, #T_da98e_row3_col6, #T_da98e_row3_col7, #T_da98e_row3_col8, #T_da98e_row4_col0, #T_da98e_row4_col1, #T_da98e_row4_col2, #T_da98e_row4_col3, #T_da98e_row4_col4, #T_da98e_row4_col5, #T_da98e_row4_col6, #T_da98e_row4_col7, #T_da98e_row4_col8, #T_da98e_row5_col0, #T_da98e_row5_col1, #T_da98e_row5_col2, #T_da98e_row5_col3, #T_da98e_row5_col4, #T_da98e_row5_col5, #T_da98e_row5_col6, #T_da98e_row5_col7, #T_da98e_row5_col8, #T_da98e_row6_col0, #T_da98e_row6_col1, #T_da98e_row6_col2, #T_da98e_row6_col3, #T_da98e_row6_col4, #T_da98e_row6_col5, #T_da98e_row6_col6, #T_da98e_row6_col7, #T_da98e_row6_col8, #T_da98e_row7_col0, #T_da98e_row7_col1, #T_da98e_row7_col2, #T_da98e_row7_col3, #T_da98e_row7_col4, #T_da98e_row7_col5, #T_da98e_row7_col6, #T_da98e_row7_col7, #T_da98e_row7_col8, #T_da98e_row8_col0, #T_da98e_row8_col1, #T_da98e_row8_col2, #T_da98e_row8_col3, #T_da98e_row8_col4, #T_da98e_row8_col5, #T_da98e_row8_col6, #T_da98e_row8_col7, #T_da98e_row8_col8, #T_da98e_row9_col0, #T_da98e_row9_col1, #T_da98e_row9_col2, #T_da98e_row9_col3, #T_da98e_row9_col4, #T_da98e_row9_col5, #T_da98e_row9_col6, #T_da98e_row9_col7, #T_da98e_row9_col8, #T_da98e_row10_col0, #T_da98e_row10_col1, #T_da98e_row10_col2, #T_da98e_row10_col3, #T_da98e_row10_col4, #T_da98e_row10_col5, #T_da98e_row10_col6, #T_da98e_row10_col7, #T_da98e_row10_col8, #T_da98e_row11_col0, #T_da98e_row11_col1, #T_da98e_row11_col2, #T_da98e_row11_col3, #T_da98e_row11_col4, #T_da98e_row11_col5, #T_da98e_row11_col6, #T_da98e_row11_col7, #T_da98e_row11_col8 {\n",
       "  font-family: SF Mono;\n",
       "  font-size: 1.4vw;\n",
       "}\n",
       "</style>\n",
       "<table id=\"T_da98e\">\n",
       "  <thead>\n",
       "    <tr>\n",
       "      <th class=\"blank level0\" >&nbsp;</th>\n",
       "      <th id=\"T_da98e_level0_col0\" class=\"col_heading level0 col0\" >index</th>\n",
       "      <th id=\"T_da98e_level0_col1\" class=\"col_heading level0 col1\" >Configuration</th>\n",
       "      <th id=\"T_da98e_level0_col2\" class=\"col_heading level0 col2\" >Size</th>\n",
       "      <th id=\"T_da98e_level0_col3\" class=\"col_heading level0 col3\" >ET</th>\n",
       "      <th id=\"T_da98e_level0_col4\" class=\"col_heading level0 col4\" >FileInput</th>\n",
       "      <th id=\"T_da98e_level0_col5\" class=\"col_heading level0 col5\" >CPU_Kernel</th>\n",
       "      <th id=\"T_da98e_level0_col6\" class=\"col_heading level0 col6\" >GPU_Kernel</th>\n",
       "      <th id=\"T_da98e_level0_col7\" class=\"col_heading level0 col7\" >Host2GPU</th>\n",
       "      <th id=\"T_da98e_level0_col8\" class=\"col_heading level0 col8\" >GPU2Host</th>\n",
       "    </tr>\n",
       "  </thead>\n",
       "  <tbody>\n",
       "    <tr>\n",
       "      <th id=\"T_da98e_level0_row0\" class=\"row_heading level0 row0\" >0</th>\n",
       "      <td id=\"T_da98e_row0_col0\" class=\"data row0 col0\" >0</td>\n",
       "      <td id=\"T_da98e_row0_col1\" class=\"data row0 col1\" >HDD+GPU</td>\n",
       "      <td id=\"T_da98e_row0_col2\" class=\"data row0 col2\" >512</td>\n",
       "      <td id=\"T_da98e_row0_col3\" class=\"data row0 col3\" >0.113199</td>\n",
       "      <td id=\"T_da98e_row0_col4\" class=\"data row0 col4\" >0.000081</td>\n",
       "      <td id=\"T_da98e_row0_col5\" class=\"data row0 col5\" >0.000000</td>\n",
       "      <td id=\"T_da98e_row0_col6\" class=\"data row0 col6\" >0.001444</td>\n",
       "      <td id=\"T_da98e_row0_col7\" class=\"data row0 col7\" >0.000012</td>\n",
       "      <td id=\"T_da98e_row0_col8\" class=\"data row0 col8\" >0.000013</td>\n",
       "    </tr>\n",
       "    <tr>\n",
       "      <th id=\"T_da98e_level0_row1\" class=\"row_heading level0 row1\" >1</th>\n",
       "      <td id=\"T_da98e_row1_col0\" class=\"data row1 col0\" >1</td>\n",
       "      <td id=\"T_da98e_row1_col1\" class=\"data row1 col1\" >HDD+CPU</td>\n",
       "      <td id=\"T_da98e_row1_col2\" class=\"data row1 col2\" >512</td>\n",
       "      <td id=\"T_da98e_row1_col3\" class=\"data row1 col3\" >0.000162</td>\n",
       "      <td id=\"T_da98e_row1_col4\" class=\"data row1 col4\" >0.000117</td>\n",
       "      <td id=\"T_da98e_row1_col5\" class=\"data row1 col5\" >0.000031</td>\n",
       "      <td id=\"T_da98e_row1_col6\" class=\"data row1 col6\" >0.000000</td>\n",
       "      <td id=\"T_da98e_row1_col7\" class=\"data row1 col7\" >0.000000</td>\n",
       "      <td id=\"T_da98e_row1_col8\" class=\"data row1 col8\" >0.000000</td>\n",
       "    </tr>\n",
       "    <tr>\n",
       "      <th id=\"T_da98e_level0_row2\" class=\"row_heading level0 row2\" >2</th>\n",
       "      <td id=\"T_da98e_row2_col0\" class=\"data row2 col0\" >2</td>\n",
       "      <td id=\"T_da98e_row2_col1\" class=\"data row2 col1\" >SSD+GPU</td>\n",
       "      <td id=\"T_da98e_row2_col2\" class=\"data row2 col2\" >512</td>\n",
       "      <td id=\"T_da98e_row2_col3\" class=\"data row2 col3\" >0.113460</td>\n",
       "      <td id=\"T_da98e_row2_col4\" class=\"data row2 col4\" >0.000038</td>\n",
       "      <td id=\"T_da98e_row2_col5\" class=\"data row2 col5\" >0.000000</td>\n",
       "      <td id=\"T_da98e_row2_col6\" class=\"data row2 col6\" >0.000284</td>\n",
       "      <td id=\"T_da98e_row2_col7\" class=\"data row2 col7\" >0.000012</td>\n",
       "      <td id=\"T_da98e_row2_col8\" class=\"data row2 col8\" >0.000008</td>\n",
       "    </tr>\n",
       "    <tr>\n",
       "      <th id=\"T_da98e_level0_row3\" class=\"row_heading level0 row3\" >3</th>\n",
       "      <td id=\"T_da98e_row3_col0\" class=\"data row3 col0\" >3</td>\n",
       "      <td id=\"T_da98e_row3_col1\" class=\"data row3 col1\" >SSD+CPU</td>\n",
       "      <td id=\"T_da98e_row3_col2\" class=\"data row3 col2\" >512</td>\n",
       "      <td id=\"T_da98e_row3_col3\" class=\"data row3 col3\" >0.000082</td>\n",
       "      <td id=\"T_da98e_row3_col4\" class=\"data row3 col4\" >0.000031</td>\n",
       "      <td id=\"T_da98e_row3_col5\" class=\"data row3 col5\" >0.000038</td>\n",
       "      <td id=\"T_da98e_row3_col6\" class=\"data row3 col6\" >0.000000</td>\n",
       "      <td id=\"T_da98e_row3_col7\" class=\"data row3 col7\" >0.000000</td>\n",
       "      <td id=\"T_da98e_row3_col8\" class=\"data row3 col8\" >0.000000</td>\n",
       "    </tr>\n",
       "    <tr>\n",
       "      <th id=\"T_da98e_level0_row4\" class=\"row_heading level0 row4\" >4</th>\n",
       "      <td id=\"T_da98e_row4_col0\" class=\"data row4 col0\" >4</td>\n",
       "      <td id=\"T_da98e_row4_col1\" class=\"data row4 col1\" >HDD+GPU</td>\n",
       "      <td id=\"T_da98e_row4_col2\" class=\"data row4 col2\" >32768</td>\n",
       "      <td id=\"T_da98e_row4_col3\" class=\"data row4 col3\" >0.113244</td>\n",
       "      <td id=\"T_da98e_row4_col4\" class=\"data row4 col4\" >0.000200</td>\n",
       "      <td id=\"T_da98e_row4_col5\" class=\"data row4 col5\" >0.000000</td>\n",
       "      <td id=\"T_da98e_row4_col6\" class=\"data row4 col6\" >0.000462</td>\n",
       "      <td id=\"T_da98e_row4_col7\" class=\"data row4 col7\" >0.000026</td>\n",
       "      <td id=\"T_da98e_row4_col8\" class=\"data row4 col8\" >0.000051</td>\n",
       "    </tr>\n",
       "    <tr>\n",
       "      <th id=\"T_da98e_level0_row5\" class=\"row_heading level0 row5\" >5</th>\n",
       "      <td id=\"T_da98e_row5_col0\" class=\"data row5 col0\" >5</td>\n",
       "      <td id=\"T_da98e_row5_col1\" class=\"data row5 col1\" >HDD+CPU</td>\n",
       "      <td id=\"T_da98e_row5_col2\" class=\"data row5 col2\" >32768</td>\n",
       "      <td id=\"T_da98e_row5_col3\" class=\"data row5 col3\" >0.003338</td>\n",
       "      <td id=\"T_da98e_row5_col4\" class=\"data row5 col4\" >0.000111</td>\n",
       "      <td id=\"T_da98e_row5_col5\" class=\"data row5 col5\" >0.003213</td>\n",
       "      <td id=\"T_da98e_row5_col6\" class=\"data row5 col6\" >0.000000</td>\n",
       "      <td id=\"T_da98e_row5_col7\" class=\"data row5 col7\" >0.000000</td>\n",
       "      <td id=\"T_da98e_row5_col8\" class=\"data row5 col8\" >0.000000</td>\n",
       "    </tr>\n",
       "    <tr>\n",
       "      <th id=\"T_da98e_level0_row6\" class=\"row_heading level0 row6\" >6</th>\n",
       "      <td id=\"T_da98e_row6_col0\" class=\"data row6 col0\" >6</td>\n",
       "      <td id=\"T_da98e_row6_col1\" class=\"data row6 col1\" >SSD+GPU</td>\n",
       "      <td id=\"T_da98e_row6_col2\" class=\"data row6 col2\" >32768</td>\n",
       "      <td id=\"T_da98e_row6_col3\" class=\"data row6 col3\" >0.114640</td>\n",
       "      <td id=\"T_da98e_row6_col4\" class=\"data row6 col4\" >0.000098</td>\n",
       "      <td id=\"T_da98e_row6_col5\" class=\"data row6 col5\" >0.000000</td>\n",
       "      <td id=\"T_da98e_row6_col6\" class=\"data row6 col6\" >0.000443</td>\n",
       "      <td id=\"T_da98e_row6_col7\" class=\"data row6 col7\" >0.000021</td>\n",
       "      <td id=\"T_da98e_row6_col8\" class=\"data row6 col8\" >0.000052</td>\n",
       "    </tr>\n",
       "    <tr>\n",
       "      <th id=\"T_da98e_level0_row7\" class=\"row_heading level0 row7\" >7</th>\n",
       "      <td id=\"T_da98e_row7_col0\" class=\"data row7 col0\" >7</td>\n",
       "      <td id=\"T_da98e_row7_col1\" class=\"data row7 col1\" >SSD+CPU</td>\n",
       "      <td id=\"T_da98e_row7_col2\" class=\"data row7 col2\" >32768</td>\n",
       "      <td id=\"T_da98e_row7_col3\" class=\"data row7 col3\" >0.002235</td>\n",
       "      <td id=\"T_da98e_row7_col4\" class=\"data row7 col4\" >0.000063</td>\n",
       "      <td id=\"T_da98e_row7_col5\" class=\"data row7 col5\" >0.002162</td>\n",
       "      <td id=\"T_da98e_row7_col6\" class=\"data row7 col6\" >0.000000</td>\n",
       "      <td id=\"T_da98e_row7_col7\" class=\"data row7 col7\" >0.000000</td>\n",
       "      <td id=\"T_da98e_row7_col8\" class=\"data row7 col8\" >0.000000</td>\n",
       "    </tr>\n",
       "    <tr>\n",
       "      <th id=\"T_da98e_level0_row8\" class=\"row_heading level0 row8\" >8</th>\n",
       "      <td id=\"T_da98e_row8_col0\" class=\"data row8 col0\" >8</td>\n",
       "      <td id=\"T_da98e_row8_col1\" class=\"data row8 col1\" >HDD+GPU</td>\n",
       "      <td id=\"T_da98e_row8_col2\" class=\"data row8 col2\" >262144</td>\n",
       "      <td id=\"T_da98e_row8_col3\" class=\"data row8 col3\" >0.115646</td>\n",
       "      <td id=\"T_da98e_row8_col4\" class=\"data row8 col4\" >0.000611</td>\n",
       "      <td id=\"T_da98e_row8_col5\" class=\"data row8 col5\" >0.000000</td>\n",
       "      <td id=\"T_da98e_row8_col6\" class=\"data row8 col6\" >0.000720</td>\n",
       "      <td id=\"T_da98e_row8_col7\" class=\"data row8 col7\" >0.000078</td>\n",
       "      <td id=\"T_da98e_row8_col8\" class=\"data row8 col8\" >0.000354</td>\n",
       "    </tr>\n",
       "    <tr>\n",
       "      <th id=\"T_da98e_level0_row9\" class=\"row_heading level0 row9\" >9</th>\n",
       "      <td id=\"T_da98e_row9_col0\" class=\"data row9 col0\" >9</td>\n",
       "      <td id=\"T_da98e_row9_col1\" class=\"data row9 col1\" >HDD+CPU</td>\n",
       "      <td id=\"T_da98e_row9_col2\" class=\"data row9 col2\" >262144</td>\n",
       "      <td id=\"T_da98e_row9_col3\" class=\"data row9 col3\" >0.020712</td>\n",
       "      <td id=\"T_da98e_row9_col4\" class=\"data row9 col4\" >0.000353</td>\n",
       "      <td id=\"T_da98e_row9_col5\" class=\"data row9 col5\" >0.020345</td>\n",
       "      <td id=\"T_da98e_row9_col6\" class=\"data row9 col6\" >0.000000</td>\n",
       "      <td id=\"T_da98e_row9_col7\" class=\"data row9 col7\" >0.000000</td>\n",
       "      <td id=\"T_da98e_row9_col8\" class=\"data row9 col8\" >0.000000</td>\n",
       "    </tr>\n",
       "    <tr>\n",
       "      <th id=\"T_da98e_level0_row10\" class=\"row_heading level0 row10\" >10</th>\n",
       "      <td id=\"T_da98e_row10_col0\" class=\"data row10 col0\" >10</td>\n",
       "      <td id=\"T_da98e_row10_col1\" class=\"data row10 col1\" >SSD+GPU</td>\n",
       "      <td id=\"T_da98e_row10_col2\" class=\"data row10 col2\" >262144</td>\n",
       "      <td id=\"T_da98e_row10_col3\" class=\"data row10 col3\" >0.114595</td>\n",
       "      <td id=\"T_da98e_row10_col4\" class=\"data row10 col4\" >0.000613</td>\n",
       "      <td id=\"T_da98e_row10_col5\" class=\"data row10 col5\" >0.000000</td>\n",
       "      <td id=\"T_da98e_row10_col6\" class=\"data row10 col6\" >0.000712</td>\n",
       "      <td id=\"T_da98e_row10_col7\" class=\"data row10 col7\" >0.000083</td>\n",
       "      <td id=\"T_da98e_row10_col8\" class=\"data row10 col8\" >0.000361</td>\n",
       "    </tr>\n",
       "    <tr>\n",
       "      <th id=\"T_da98e_level0_row11\" class=\"row_heading level0 row11\" >11</th>\n",
       "      <td id=\"T_da98e_row11_col0\" class=\"data row11 col0\" >11</td>\n",
       "      <td id=\"T_da98e_row11_col1\" class=\"data row11 col1\" >SSD+CPU</td>\n",
       "      <td id=\"T_da98e_row11_col2\" class=\"data row11 col2\" >262144</td>\n",
       "      <td id=\"T_da98e_row11_col3\" class=\"data row11 col3\" >0.026351</td>\n",
       "      <td id=\"T_da98e_row11_col4\" class=\"data row11 col4\" >0.000583</td>\n",
       "      <td id=\"T_da98e_row11_col5\" class=\"data row11 col5\" >0.025752</td>\n",
       "      <td id=\"T_da98e_row11_col6\" class=\"data row11 col6\" >0.000000</td>\n",
       "      <td id=\"T_da98e_row11_col7\" class=\"data row11 col7\" >0.000000</td>\n",
       "      <td id=\"T_da98e_row11_col8\" class=\"data row11 col8\" >0.000000</td>\n",
       "    </tr>\n",
       "  </tbody>\n",
       "</table>\n"
      ],
      "text/plain": [
       "<pandas.io.formats.style.Styler at 0x7c329cb14d40>"
      ]
     },
     "metadata": {},
     "output_type": "display_data"
    }
   ],
   "source": [
    "! cp ../300000000.bin /tmp/300000000.bin\n",
    "! echo \"Configuration,Size,ET,FileInput,CPU_Kernel,GPU_Kernel,Host2GPU,GPU2Host\" > sort_small.csv\n",
    "! echo \"File on H.D.D\"\n",
    "! cd gpusort; source ./run_small 512 2>> ../sort_small.csv\n",
    "! echo \"File on S.S.D\"\n",
    "! cd gpusort; source ./run_small_SSD 512 2>> ../sort_small.csv\n",
    "! echo \"File on H.D.D\"\n",
    "! cd gpusort; source ./run_small 32768 2>> ../sort_small.csv\n",
    "! echo \"File on S.S.D\"\n",
    "! cd gpusort; source ./run_small_SSD 32768 2>> ../sort_small.csv\n",
    "! echo \"File on H.D.D\"\n",
    "! cd gpusort; source ./run_small 262144 2>> ../sort_small.csv\n",
    "! echo \"File on S.S.D\"\n",
    "! cd gpusort; source ./run_small_SSD 262144 2>> ../sort_small.csv\n",
    "! rm -f /tmp/300000000.bin\n",
    "display_df_mono((render_csv(\"sort_small.csv\")))"
   ]
  },
  {
   "cell_type": "markdown",
   "id": "f7b7b25d-f14d-498a-8f9b-68ebfd312647",
   "metadata": {},
   "source": [
    "What can we observe here?"
   ]
  },
  {
   "cell_type": "code",
   "execution_count": null,
   "id": "e7b788b5-f68a-4961-86dc-5b3f9c6e238c",
   "metadata": {},
   "outputs": [],
   "source": []
  }
 ],
 "metadata": {
  "kernelspec": {
   "display_name": "Python 3 (ipykernel)",
   "language": "python",
   "name": "python3"
  },
  "language_info": {
   "codemirror_mode": {
    "name": "ipython",
    "version": 3
   },
   "file_extension": ".py",
   "mimetype": "text/x-python",
   "name": "python",
   "nbconvert_exporter": "python",
   "pygments_lexer": "ipython3",
   "version": "3.12.3"
  },
  "widgets": {
   "application/vnd.jupyter.widget-state+json": {
    "state": {},
    "version_major": 2,
    "version_minor": 0
   }
  }
 },
 "nbformat": 4,
 "nbformat_minor": 5
}
