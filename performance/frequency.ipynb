{
 "cells": [
  {
   "cell_type": "code",
   "execution_count": 2,
   "id": "efe67395-1de2-4dbe-a212-508f06a3af13",
   "metadata": {},
   "outputs": [
    {
     "data": {
      "text/html": [
       "<style>h1 {font-size: 2vw;} h2 {font-size: 1.5vw;} p {font-size: 1.4vw;} div.prompt, code, output, prompt, kbd, pre, samp {font-family: 'SF Mono', 'Courier New', Courier, monospace, sans-serif !important;font-size: 1.4vw !important;}</style>"
      ],
      "text/plain": [
       "<IPython.core.display.HTML object>"
      ]
     },
     "metadata": {},
     "output_type": "display_data"
    }
   ],
   "source": [
    "# Please execute/shift-return this cell everytime you run the notebook.  Don't edit it. \n",
    "%load_ext autoreload\n",
    "%autoreload 2\n",
    "from notebook import * "
   ]
  },
  {
   "cell_type": "markdown",
   "id": "97ecf570-3b40-44d8-ad77-c5099779863a",
   "metadata": {
    "tags": []
   },
   "source": [
    "<div class=\"alert alert-block alert-info\">\n",
    "    \n",
    "### Question:\n",
    "\n",
    "What does the programmer affect?\n",
    "    \n",
    "</div>"
   ]
  },
  {
   "cell_type": "code",
   "execution_count": 5,
   "id": "1ec0d477-b44c-4875-9ce1-636912bb2308",
   "metadata": {},
   "outputs": [
    {
     "data": {
      "text/html": [
       "<style>pre { line-height: 125%; }\n",
       "td.linenos .normal { color: inherit; background-color: transparent; padding-left: 5px; padding-right: 5px; }\n",
       "span.linenos { color: inherit; background-color: transparent; padding-left: 5px; padding-right: 5px; }\n",
       "td.linenos .special { color: #000000; background-color: #ffffc0; padding-left: 5px; padding-right: 5px; }\n",
       "span.linenos.special { color: #000000; background-color: #ffffc0; padding-left: 5px; padding-right: 5px; }\n",
       ".output_html .hll { background-color: #ffffcc }\n",
       ".output_html { background: #f8f8f8; }\n",
       ".output_html .c { color: #3D7B7B; font-style: italic } /* Comment */\n",
       ".output_html .err { border: 1px solid #FF0000 } /* Error */\n",
       ".output_html .k { color: #008000; font-weight: bold } /* Keyword */\n",
       ".output_html .o { color: #666666 } /* Operator */\n",
       ".output_html .ch { color: #3D7B7B; font-style: italic } /* Comment.Hashbang */\n",
       ".output_html .cm { color: #3D7B7B; font-style: italic } /* Comment.Multiline */\n",
       ".output_html .cp { color: #9C6500 } /* Comment.Preproc */\n",
       ".output_html .cpf { color: #3D7B7B; font-style: italic } /* Comment.PreprocFile */\n",
       ".output_html .c1 { color: #3D7B7B; font-style: italic } /* Comment.Single */\n",
       ".output_html .cs { color: #3D7B7B; font-style: italic } /* Comment.Special */\n",
       ".output_html .gd { color: #A00000 } /* Generic.Deleted */\n",
       ".output_html .ge { font-style: italic } /* Generic.Emph */\n",
       ".output_html .ges { font-weight: bold; font-style: italic } /* Generic.EmphStrong */\n",
       ".output_html .gr { color: #E40000 } /* Generic.Error */\n",
       ".output_html .gh { color: #000080; font-weight: bold } /* Generic.Heading */\n",
       ".output_html .gi { color: #008400 } /* Generic.Inserted */\n",
       ".output_html .go { color: #717171 } /* Generic.Output */\n",
       ".output_html .gp { color: #000080; font-weight: bold } /* Generic.Prompt */\n",
       ".output_html .gs { font-weight: bold } /* Generic.Strong */\n",
       ".output_html .gu { color: #800080; font-weight: bold } /* Generic.Subheading */\n",
       ".output_html .gt { color: #0044DD } /* Generic.Traceback */\n",
       ".output_html .kc { color: #008000; font-weight: bold } /* Keyword.Constant */\n",
       ".output_html .kd { color: #008000; font-weight: bold } /* Keyword.Declaration */\n",
       ".output_html .kn { color: #008000; font-weight: bold } /* Keyword.Namespace */\n",
       ".output_html .kp { color: #008000 } /* Keyword.Pseudo */\n",
       ".output_html .kr { color: #008000; font-weight: bold } /* Keyword.Reserved */\n",
       ".output_html .kt { color: #B00040 } /* Keyword.Type */\n",
       ".output_html .m { color: #666666 } /* Literal.Number */\n",
       ".output_html .s { color: #BA2121 } /* Literal.String */\n",
       ".output_html .na { color: #687822 } /* Name.Attribute */\n",
       ".output_html .nb { color: #008000 } /* Name.Builtin */\n",
       ".output_html .nc { color: #0000FF; font-weight: bold } /* Name.Class */\n",
       ".output_html .no { color: #880000 } /* Name.Constant */\n",
       ".output_html .nd { color: #AA22FF } /* Name.Decorator */\n",
       ".output_html .ni { color: #717171; font-weight: bold } /* Name.Entity */\n",
       ".output_html .ne { color: #CB3F38; font-weight: bold } /* Name.Exception */\n",
       ".output_html .nf { color: #0000FF } /* Name.Function */\n",
       ".output_html .nl { color: #767600 } /* Name.Label */\n",
       ".output_html .nn { color: #0000FF; font-weight: bold } /* Name.Namespace */\n",
       ".output_html .nt { color: #008000; font-weight: bold } /* Name.Tag */\n",
       ".output_html .nv { color: #19177C } /* Name.Variable */\n",
       ".output_html .ow { color: #AA22FF; font-weight: bold } /* Operator.Word */\n",
       ".output_html .w { color: #bbbbbb } /* Text.Whitespace */\n",
       ".output_html .mb { color: #666666 } /* Literal.Number.Bin */\n",
       ".output_html .mf { color: #666666 } /* Literal.Number.Float */\n",
       ".output_html .mh { color: #666666 } /* Literal.Number.Hex */\n",
       ".output_html .mi { color: #666666 } /* Literal.Number.Integer */\n",
       ".output_html .mo { color: #666666 } /* Literal.Number.Oct */\n",
       ".output_html .sa { color: #BA2121 } /* Literal.String.Affix */\n",
       ".output_html .sb { color: #BA2121 } /* Literal.String.Backtick */\n",
       ".output_html .sc { color: #BA2121 } /* Literal.String.Char */\n",
       ".output_html .dl { color: #BA2121 } /* Literal.String.Delimiter */\n",
       ".output_html .sd { color: #BA2121; font-style: italic } /* Literal.String.Doc */\n",
       ".output_html .s2 { color: #BA2121 } /* Literal.String.Double */\n",
       ".output_html .se { color: #AA5D1F; font-weight: bold } /* Literal.String.Escape */\n",
       ".output_html .sh { color: #BA2121 } /* Literal.String.Heredoc */\n",
       ".output_html .si { color: #A45A77; font-weight: bold } /* Literal.String.Interpol */\n",
       ".output_html .sx { color: #008000 } /* Literal.String.Other */\n",
       ".output_html .sr { color: #A45A77 } /* Literal.String.Regex */\n",
       ".output_html .s1 { color: #BA2121 } /* Literal.String.Single */\n",
       ".output_html .ss { color: #19177C } /* Literal.String.Symbol */\n",
       ".output_html .bp { color: #008000 } /* Name.Builtin.Pseudo */\n",
       ".output_html .fm { color: #0000FF } /* Name.Function.Magic */\n",
       ".output_html .vc { color: #19177C } /* Name.Variable.Class */\n",
       ".output_html .vg { color: #19177C } /* Name.Variable.Global */\n",
       ".output_html .vi { color: #19177C } /* Name.Variable.Instance */\n",
       ".output_html .vm { color: #19177C } /* Name.Variable.Magic */\n",
       ".output_html .il { color: #666666 } /* Literal.Number.Integer.Long */</style><div class=\"highlight\"><pre><span></span><span class=\"c1\">// ./programmer/perfstats.c:71-78 (8 lines)</span>\n",
       "<span class=\"kt\">void</span><span class=\"w\"> </span><span class=\"nf\">change_cpufrequnecy</span><span class=\"p\">(</span><span class=\"kt\">int</span><span class=\"w\"> </span><span class=\"n\">MHz</span><span class=\"p\">)</span><span class=\"w\"> </span><span class=\"p\">{</span>\n",
       "<span class=\"w\">    </span><span class=\"kt\">int</span><span class=\"w\"> </span><span class=\"n\">KHz</span><span class=\"w\"> </span><span class=\"o\">=</span><span class=\"w\"> </span><span class=\"n\">MHz</span><span class=\"o\">*</span><span class=\"mi\">1000</span><span class=\"p\">;</span>\n",
       "<span class=\"w\">    </span><span class=\"kt\">char</span><span class=\"w\"> </span><span class=\"n\">cmdline</span><span class=\"p\">[</span><span class=\"mi\">1024</span><span class=\"p\">];</span>\n",
       "<span class=\"w\">    </span><span class=\"n\">cpu</span><span class=\"w\"> </span><span class=\"o\">=</span><span class=\"w\"> </span><span class=\"n\">sched_getcpu</span><span class=\"p\">();</span>\n",
       "<span class=\"w\">    </span><span class=\"n\">sprintf</span><span class=\"p\">(</span><span class=\"n\">cmdline</span><span class=\"p\">,</span><span class=\"s\">&quot;/usr/sbin/changefreq %d %d %d&quot;</span><span class=\"p\">,</span><span class=\"n\">cpu</span><span class=\"p\">,</span><span class=\"n\">KHz</span><span class=\"p\">,</span><span class=\"n\">KHz</span><span class=\"p\">);</span>\n",
       "<span class=\"w\">    </span><span class=\"n\">system</span><span class=\"p\">(</span><span class=\"n\">cmdline</span><span class=\"p\">);</span>\n",
       "<span class=\"w\">    </span><span class=\"k\">return</span><span class=\"p\">;</span>\n",
       "<span class=\"p\">}</span>\n",
       "</pre></div>\n"
      ],
      "text/latex": [
       "\\begin{Verbatim}[commandchars=\\\\\\{\\}]\n",
       "\\PY{c+c1}{// ./programmer/perfstats.c:71\\PYZhy{}78 (8 lines)}\n",
       "\\PY{k+kt}{void}\\PY{+w}{ }\\PY{n+nf}{change\\PYZus{}cpufrequnecy}\\PY{p}{(}\\PY{k+kt}{int}\\PY{+w}{ }\\PY{n}{MHz}\\PY{p}{)}\\PY{+w}{ }\\PY{p}{\\PYZob{}}\n",
       "\\PY{+w}{    }\\PY{k+kt}{int}\\PY{+w}{ }\\PY{n}{KHz}\\PY{+w}{ }\\PY{o}{=}\\PY{+w}{ }\\PY{n}{MHz}\\PY{o}{*}\\PY{l+m+mi}{1000}\\PY{p}{;}\n",
       "\\PY{+w}{    }\\PY{k+kt}{char}\\PY{+w}{ }\\PY{n}{cmdline}\\PY{p}{[}\\PY{l+m+mi}{1024}\\PY{p}{]}\\PY{p}{;}\n",
       "\\PY{+w}{    }\\PY{n}{cpu}\\PY{+w}{ }\\PY{o}{=}\\PY{+w}{ }\\PY{n}{sched\\PYZus{}getcpu}\\PY{p}{(}\\PY{p}{)}\\PY{p}{;}\n",
       "\\PY{+w}{    }\\PY{n}{sprintf}\\PY{p}{(}\\PY{n}{cmdline}\\PY{p}{,}\\PY{l+s}{\\PYZdq{}}\\PY{l+s}{/usr/sbin/changefreq \\PYZpc{}d \\PYZpc{}d \\PYZpc{}d}\\PY{l+s}{\\PYZdq{}}\\PY{p}{,}\\PY{n}{cpu}\\PY{p}{,}\\PY{n}{KHz}\\PY{p}{,}\\PY{n}{KHz}\\PY{p}{)}\\PY{p}{;}\n",
       "\\PY{+w}{    }\\PY{n}{system}\\PY{p}{(}\\PY{n}{cmdline}\\PY{p}{)}\\PY{p}{;}\n",
       "\\PY{+w}{    }\\PY{k}{return}\\PY{p}{;}\n",
       "\\PY{p}{\\PYZcb{}}\n",
       "\\end{Verbatim}\n"
      ],
      "text/plain": [
       "// ./programmer/perfstats.c:71-78 (8 lines)\n",
       "void change_cpufrequnecy(int MHz) {\n",
       "    int KHz = MHz*1000;\n",
       "    char cmdline[1024];\n",
       "    cpu = sched_getcpu();\n",
       "    sprintf(cmdline,\"/usr/sbin/changefreq %d %d %d\",cpu,KHz,KHz);\n",
       "    system(cmdline);\n",
       "    return;\n",
       "}"
      ]
     },
     "metadata": {},
     "output_type": "display_data"
    }
   ],
   "source": [
    "render_code(\"./programmer/perfstats.c\", lang=\"c++\", show=\"change_cpufrequnecy\")"
   ]
  },
  {
   "cell_type": "code",
   "execution_count": 1,
   "id": "15a0b812-4213-4839-bfcd-0719c3fa5ef0",
   "metadata": {},
   "outputs": [
    {
     "name": "stdout",
     "output_type": "stream",
     "text": [
      "analyzing CPU 0:\r\n",
      "  driver: intel_pstate\r\n",
      "  CPUs which run at the same hardware frequency: 0\r\n",
      "  CPUs which need to have their frequency coordinated by software: 0\r\n",
      "  maximum transition latency:  Cannot determine or is not supported.\r\n",
      "  hardware limits: 1000.000 MHz - 3.700000 GHz\r\n",
      "  available cpufreq governors: performance powersave\r\n",
      "  current policy: frequency should be within 1000.000 MHz and 3.700000 GHz.\r\n",
      "                  The governor \"performance\" may decide which speed to use\r\n",
      "                  within this range.\r\n",
      "  current CPU frequency: Unable to call hardware\r\n",
      "  current CPU frequency: 1.000584 GHz (asserted by call to kernel)\r\n",
      "  boost state support:\r\n",
      "    Supported: yes\r\n",
      "    Active: yes\r\n"
     ]
    }
   ],
   "source": [
    "!cse142 run \"cpupower frequency-info -n\""
   ]
  },
  {
   "cell_type": "code",
   "execution_count": 3,
   "id": "f11174ed-7869-4a3e-bf0e-fa19b576eb85",
   "metadata": {},
   "outputs": [
    {
     "name": "stdout",
     "output_type": "stream",
     "text": [
      "cpu MHz\t\t: 2300.000\r\n",
      "cpu MHz\t\t: 2300.000\r\n",
      "cpu MHz\t\t: 2300.000\r\n",
      "cpu MHz\t\t: 2300.000\r\n",
      "cpu MHz\t\t: 2300.000\r\n",
      "cpu MHz\t\t: 2300.000\r\n",
      "cpu MHz\t\t: 2300.000\r\n",
      "cpu MHz\t\t: 2300.000\r\n",
      "cpu MHz\t\t: 2300.000\r\n",
      "cpu MHz\t\t: 2300.000\r\n",
      "cpu MHz\t\t: 2300.000\r\n",
      "cpu MHz\t\t: 2300.000\r\n",
      "cpu MHz\t\t: 2300.000\r\n",
      "cpu MHz\t\t: 2300.000\r\n",
      "cpu MHz\t\t: 2300.000\r\n",
      "cpu MHz\t\t: 2300.000\r\n",
      "cpu MHz\t\t: 2300.000\r\n",
      "cpu MHz\t\t: 2300.000\r\n",
      "cpu MHz\t\t: 2300.000\r\n",
      "cpu MHz\t\t: 2300.000\r\n",
      "cpu MHz\t\t: 2300.000\r\n",
      "cpu MHz\t\t: 2300.000\r\n",
      "cpu MHz\t\t: 2300.000\r\n",
      "cpu MHz\t\t: 2300.000\r\n",
      "cpu MHz\t\t: 2300.000\r\n",
      "cpu MHz\t\t: 2300.000\r\n",
      "cpu MHz\t\t: 2300.000\r\n",
      "cpu MHz\t\t: 2300.000\r\n",
      "cpu MHz\t\t: 2300.000\r\n",
      "cpu MHz\t\t: 2300.000\r\n",
      "cpu MHz\t\t: 2300.000\r\n",
      "cpu MHz\t\t: 2300.000\r\n",
      "cpu MHz\t\t: 2300.000\r\n",
      "cpu MHz\t\t: 2300.000\r\n",
      "cpu MHz\t\t: 2300.000\r\n",
      "cpu MHz\t\t: 2300.000\r\n",
      "cpu MHz\t\t: 2300.000\r\n",
      "cpu MHz\t\t: 2300.000\r\n",
      "cpu MHz\t\t: 2300.000\r\n",
      "cpu MHz\t\t: 2300.000\r\n",
      "cpu MHz\t\t: 2300.000\r\n",
      "cpu MHz\t\t: 2300.000\r\n",
      "cpu MHz\t\t: 2300.000\r\n",
      "cpu MHz\t\t: 2300.000\r\n",
      "cpu MHz\t\t: 2300.000\r\n",
      "cpu MHz\t\t: 2300.000\r\n",
      "cpu MHz\t\t: 2300.000\r\n",
      "cpu MHz\t\t: 2300.000\r\n",
      "cpu MHz\t\t: 2300.000\r\n",
      "cpu MHz\t\t: 2300.000\r\n",
      "cpu MHz\t\t: 2300.000\r\n",
      "cpu MHz\t\t: 2300.000\r\n",
      "cpu MHz\t\t: 2300.000\r\n",
      "cpu MHz\t\t: 2300.000\r\n",
      "cpu MHz\t\t: 2451.687\r\n",
      "cpu MHz\t\t: 2300.000\r\n",
      "cpu MHz\t\t: 2300.000\r\n",
      "cpu MHz\t\t: 2300.000\r\n",
      "cpu MHz\t\t: 2300.000\r\n",
      "cpu MHz\t\t: 2300.000\r\n",
      "cpu MHz\t\t: 2300.000\r\n",
      "cpu MHz\t\t: 2300.000\r\n",
      "cpu MHz\t\t: 2300.000\r\n",
      "cpu MHz\t\t: 2300.000\r\n",
      "cpu MHz\t\t: 2300.000\r\n",
      "cpu MHz\t\t: 2300.000\r\n",
      "cpu MHz\t\t: 2300.000\r\n",
      "cpu MHz\t\t: 2833.802\r\n",
      "cpu MHz\t\t: 2574.521\r\n",
      "cpu MHz\t\t: 2300.000\r\n",
      "cpu MHz\t\t: 2300.000\r\n",
      "cpu MHz\t\t: 2300.000\r\n"
     ]
    }
   ],
   "source": [
    "! cse142 run \"cat /proc/cpuinfo|grep MHz\""
   ]
  },
  {
   "cell_type": "code",
   "execution_count": 4,
   "id": "70ed1330-f42c-4c31-999c-df9709c1af5c",
   "metadata": {},
   "outputs": [
    {
     "name": "stdout",
     "output_type": "stream",
     "text": [
      "make: Entering directory '/nfshome/htseng/courses/CSE142/demo/performance/programmer'\n",
      "cc -O3 -DHAVE_LINUX_PERF_EVENT_H -g -DA madd_change_freq.c perfstats.o -o madd_change_freq\n",
      "madd_change_freq.c: In function ‘main’:\n",
      "madd_change_freq.c:18:3: warning: implicit declaration of function ‘change_cpufrequnecy’ [-Wimplicit-function-declaration]\n",
      "   18 |   change_cpufrequnecy(freq);\n",
      "      |   ^~~~~~~~~~~~~~~~~~~\n",
      "madd_change_freq.c:49:3: warning: implicit declaration of function ‘restore_cpufrequnecy’ [-Wimplicit-function-declaration]\n",
      "   49 |   restore_cpufrequnecy();\n",
      "      |   ^~~~~~~~~~~~~~~~~~~~\n",
      "make: Leaving directory '/nfshome/htseng/courses/CSE142/demo/performance/programmer'\n",
      "161\n",
      "\n",
      " Performance counter stats for './programmer/madd_change_freq 8192 1800':\n",
      "\n",
      "          3,067.10 msec task-clock                #    0.996 CPUs utilized          \n",
      "                15      context-switches          #    4.891 /sec                   \n",
      "                 0      cpu-migrations            #    0.000 /sec                   \n",
      "           196,970      page-faults               #   64.220 K/sec                  \n",
      "     5,592,309,582      cycles                    #    1.823 GHz                    \n",
      "    11,417,791,332      instructions              #    2.04  insn per cycle         \n",
      "     2,461,424,101      branches                  #  802.524 M/sec                  \n",
      "         5,059,855      branch-misses             #    0.21% of all branches        \n",
      "\n",
      "       3.080750147 seconds time elapsed\n",
      "\n",
      "       2.454157000 seconds user\n",
      "       0.625830000 seconds sys\n",
      "\n",
      "\n",
      "161\n",
      "\n",
      " Performance counter stats for './programmer/madd_change_freq 8192 3700':\n",
      "\n",
      "          1,566.10 msec task-clock                #    0.992 CPUs utilized          \n",
      "                 9      context-switches          #    5.747 /sec                   \n",
      "                 0      cpu-migrations            #    0.000 /sec                   \n",
      "           196,972      page-faults               #  125.772 K/sec                  \n",
      "     5,767,335,734      cycles                    #    3.683 GHz                    \n",
      "    11,411,374,781      instructions              #    1.98  insn per cycle         \n",
      "     2,460,281,277      branches                  #    1.571 G/sec                  \n",
      "         5,004,742      branch-misses             #    0.20% of all branches        \n",
      "\n",
      "       1.579290807 seconds time elapsed\n",
      "\n",
      "       1.247197000 seconds user\n",
      "       0.332124000 seconds sys\n",
      "\n",
      "\n"
     ]
    }
   ],
   "source": [
    "! cse142 run \"make -C /nfshome/htseng/courses/CSE142/demo/performance/programmer madd_change_freq\"\n",
    "! cse142 run \"perf stat ./programmer/madd_change_freq 8192 1800\"\n",
    "! cse142 run \"perf stat ./programmer/madd_change_freq 8192 3700\""
   ]
  },
  {
   "cell_type": "markdown",
   "id": "8a6114b5-e5a9-4cc9-9829-5b976194aeca",
   "metadata": {},
   "source": [
    "## Why're we lower the frequency?"
   ]
  },
  {
   "cell_type": "code",
   "execution_count": 5,
   "id": "72878e1e-8832-41d0-bf5a-40ef6978cfb1",
   "metadata": {},
   "outputs": [
    {
     "name": "stdout",
     "output_type": "stream",
     "text": [
      "Sleeping longer as likwid_sleep() called without prior initialization\n",
      "Sleeping longer as likwid_sleep() called without prior initialization\n",
      "|   INSTR_RETIRED_ANY STAT   |  FIXC0  | 10897132232 |   0 | 10508327261 | 1.513491e+08 |\n",
      "| CPU_CLK_UNHALTED_CORE STAT |  FIXC1  |  4268225703 |   0 |  4073850172 | 5.928091e+07 |\n",
      "|  CPU_CLK_UNHALTED_REF STAT |  FIXC2  |  9809136968 |   0 |  9369322780 | 1.362380e+08 |\n",
      "|       TEMP_CORE STAT       |   TMP0  |        2066 |  23 |          34 |      28.6944 |\n",
      "|     PWR_PKG_ENERGY STAT    |   PWR0  |    309.4913 |   0 |    157.2692 |       4.2985 |\n",
      "|     PWR_PP0_ENERGY STAT    |   PWR1  |           0 |   0 |           0 |            0 |\n",
      "|    PWR_DRAM_ENERGY STAT    |   PWR3  |     66.2007 |   0 |     40.7083 |       0.9195 |\n",
      "|  Runtime (RDTSC) [s] STAT |   379.1376 |   5.2658 |    5.2658 |   5.2658 |\n",
      "| Runtime unhalted [s] STAT |     1.8557 |        0 |    1.7713 |   0.0258 |\n",
      "|      Clock [MHz] STAT     | 38161.8527 | 999.1752 | 2321.5742 | 530.0257 |\n",
      "|          CPI STAT         |    75.8298 |   0.3877 |   10.5204 |   1.0532 |\n",
      "|    Temperature [C] STAT   |       2066 |       23 |        34 |  28.6944 |\n",
      "|      Energy [J] STAT      |   309.4913 |        0 |  157.2692 |   4.2985 |\n",
      "|       Power [W] STAT      |    58.7734 |        0 |   29.8659 |   0.8163 |\n",
      "|    Energy PP0 [J] STAT    |          0 |        0 |         0 |        0 |\n",
      "|     Power PP0 [W] STAT    |          0 |        0 |         0 |        0 |\n",
      "|    Energy DRAM [J] STAT   |    66.2007 |        0 |   40.7083 |   0.9195 |\n",
      "|    Power DRAM [W] STAT    |    12.5717 |        0 |    7.7306 |   0.1746 |\n"
     ]
    }
   ],
   "source": [
    "! cse142 run \"sudo likwid-perfctr -g ENERGY ./programmer/madd_change_freq 8192 1000\" | grep STAT"
   ]
  },
  {
   "cell_type": "code",
   "execution_count": 6,
   "id": "c150aec0-0fe7-4210-b6d9-b30a1f494aaa",
   "metadata": {},
   "outputs": [
    {
     "name": "stdout",
     "output_type": "stream",
     "text": [
      "Sleeping longer as likwid_sleep() called without prior initialization\n",
      "Sleeping longer as likwid_sleep() called without prior initialization\n",
      "|   INSTR_RETIRED_ANY STAT   |  FIXC0  | 10566544874 |   0 | 10508326675 | 1.467576e+08 |\n",
      "| CPU_CLK_UNHALTED_CORE STAT |  FIXC1  |  4154003399 |   0 |  4115291168 | 5.769449e+07 |\n",
      "|  CPU_CLK_UNHALTED_REF STAT |  FIXC2  |  4152714216 |   0 |  4115206276 | 5.767659e+07 |\n",
      "|       TEMP_CORE STAT       |   TMP0  |        2149 |  24 |          36 |      29.8472 |\n",
      "|     PWR_PKG_ENERGY STAT    |   PWR0  |    224.0092 |   0 |    117.4744 |       3.1112 |\n",
      "|     PWR_PP0_ENERGY STAT    |   PWR1  |           0 |   0 |           0 |            0 |\n",
      "|    PWR_DRAM_ENERGY STAT    |   PWR3  |     30.0867 |   0 |     18.6907 |       0.4179 |\n",
      "|  Runtime (RDTSC) [s] STAT |   171.2304 |   2.3782 |    2.3782 |   2.3782 |\n",
      "| Runtime unhalted [s] STAT |     1.8061 |        0 |    1.7893 |   0.0251 |\n",
      "|      Clock [MHz] STAT     | 64397.0148 | 993.3320 | 3351.2206 | 894.4030 |\n",
      "|          CPI STAT         |   142.6780 |   0.3916 |   24.2486 |   1.9816 |\n",
      "|    Temperature [C] STAT   |       2149 |       24 |        36 |  29.8472 |\n",
      "|      Energy [J] STAT      |   224.0092 |        0 |  117.4744 |   3.1112 |\n",
      "|       Power [W] STAT      |    94.1911 |        0 |   49.3955 |   1.3082 |\n",
      "|    Energy PP0 [J] STAT    |          0 |        0 |         0 |        0 |\n",
      "|     Power PP0 [W] STAT    |          0 |        0 |         0 |        0 |\n",
      "|    Energy DRAM [J] STAT   |    30.0867 |        0 |   18.6907 |   0.4179 |\n",
      "|    Power DRAM [W] STAT    |    12.6508 |        0 |    7.8590 |   0.1757 |\n"
     ]
    }
   ],
   "source": [
    "! cse142 run \"sudo likwid-perfctr -g ENERGY ./programmer/madd_change_freq 8192 2300\" | grep STAT"
   ]
  },
  {
   "cell_type": "code",
   "execution_count": 7,
   "id": "779fbc7a-781c-4898-a5ed-03ae600ebca3",
   "metadata": {},
   "outputs": [
    {
     "name": "stdout",
     "output_type": "stream",
     "text": [
      "Sleeping longer as likwid_sleep() called without prior initialization\n",
      "Sleeping longer as likwid_sleep() called without prior initialization\n",
      "|   INSTR_RETIRED_ANY STAT   |  FIXC0  | 10568847420 |   0 | 10508326497 | 1.467895e+08 |\n",
      "| CPU_CLK_UNHALTED_CORE STAT |  FIXC1  |  4229643210 |   0 |  4185296947 | 5.874504e+07 |\n",
      "|  CPU_CLK_UNHALTED_REF STAT |  FIXC2  |  2639936780 |   0 |  2610618772 | 3.666579e+07 |\n",
      "|       TEMP_CORE STAT       |   TMP0  |        2184 |  24 |          39 |      30.3333 |\n",
      "|     PWR_PKG_ENERGY STAT    |   PWR0  |    158.9066 |   0 |     88.0086 |       2.2070 |\n",
      "|     PWR_PP0_ENERGY STAT    |   PWR1  |           0 |   0 |           0 |            0 |\n",
      "|    PWR_DRAM_ENERGY STAT    |   PWR3  |     20.3373 |   0 |     12.6387 |       0.2825 |\n",
      "|  Runtime (RDTSC) [s] STAT |   114.1776 |   1.5858 |    1.5858 |    1.5858 |\n",
      "| Runtime unhalted [s] STAT |     1.8391 |        0 |    1.8197 |    0.0255 |\n",
      "|      Clock [MHz] STAT     | 85943.0513 | 999.8241 | 3687.3044 | 1193.6535 |\n",
      "|          CPI STAT         |   127.9061 |   0.3983 |   13.1945 |    1.7765 |\n",
      "|    Temperature [C] STAT   |       2184 |       24 |        39 |   30.3333 |\n",
      "|      Energy [J] STAT      |   158.9066 |        0 |   88.0086 |    2.2070 |\n",
      "|       Power [W] STAT      |   100.2088 |        0 |   55.4995 |    1.3918 |\n",
      "|    Energy PP0 [J] STAT    |          0 |        0 |         0 |         0 |\n",
      "|     Power PP0 [W] STAT    |          0 |        0 |         0 |         0 |\n",
      "|    Energy DRAM [J] STAT   |    20.3373 |        0 |   12.6387 |    0.2825 |\n",
      "|    Power DRAM [W] STAT    |    12.8250 |        0 |    7.9702 |    0.1781 |\n"
     ]
    }
   ],
   "source": [
    "! cse142 run \"sudo likwid-perfctr -g ENERGY ./programmer/madd_change_freq 8192 3700\" | grep STAT"
   ]
  },
  {
   "cell_type": "code",
   "execution_count": null,
   "id": "b466d673-95b6-43e8-9b4b-2ea660ba1d7a",
   "metadata": {},
   "outputs": [],
   "source": []
  }
 ],
 "metadata": {
  "kernelspec": {
   "display_name": "Python 3 (ipykernel)",
   "language": "python",
   "name": "python3"
  },
  "language_info": {
   "codemirror_mode": {
    "name": "ipython",
    "version": 3
   },
   "file_extension": ".py",
   "mimetype": "text/x-python",
   "name": "python",
   "nbconvert_exporter": "python",
   "pygments_lexer": "ipython3",
   "version": "3.12.3"
  },
  "widgets": {
   "application/vnd.jupyter.widget-state+json": {
    "state": {},
    "version_major": 2,
    "version_minor": 0
   }
  }
 },
 "nbformat": 4,
 "nbformat_minor": 5
}
